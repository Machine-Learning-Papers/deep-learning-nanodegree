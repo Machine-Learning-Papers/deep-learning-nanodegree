{
 "cells": [
  {
   "cell_type": "markdown",
   "metadata": {
    "collapsed": true,
    "deletable": true,
    "editable": true
   },
   "source": [
    "# Image Classification\n",
    "In this project, you'll classify images from the [CIFAR-10 dataset](https://www.cs.toronto.edu/~kriz/cifar.html).  The dataset consists of airplanes, dogs, cats, and other objects. You'll preprocess the images, then train a convolutional neural network on all the samples. The images need to be normalized and the labels need to be one-hot encoded.  You'll get to apply what you learned and build a convolutional, max pooling, dropout, and fully connected layers.  At the end, you'll get to see your neural network's predictions on the sample images.\n",
    "## Get the Data\n",
    "Run the following cell to download the [CIFAR-10 dataset for python](https://www.cs.toronto.edu/~kriz/cifar-10-python.tar.gz)."
   ]
  },
  {
   "cell_type": "code",
   "execution_count": 1,
   "metadata": {
    "collapsed": false,
    "deletable": true,
    "editable": true
   },
   "outputs": [
    {
     "name": "stderr",
     "output_type": "stream",
     "text": [
      "CIFAR-10 Dataset: 171MB [09:38, 295KB/s]                               \n"
     ]
    },
    {
     "name": "stdout",
     "output_type": "stream",
     "text": [
      "All files found!\n"
     ]
    }
   ],
   "source": [
    "\"\"\"\n",
    "DON'T MODIFY ANYTHING IN THIS CELL THAT IS BELOW THIS LINE\n",
    "\"\"\"\n",
    "from urllib.request import urlretrieve\n",
    "from os.path import isfile, isdir\n",
    "from tqdm import tqdm\n",
    "import problem_unittests as tests\n",
    "import tarfile\n",
    "\n",
    "cifar10_dataset_folder_path = 'cifar-10-batches-py'\n",
    "\n",
    "class DLProgress(tqdm):\n",
    "    last_block = 0\n",
    "\n",
    "    def hook(self, block_num=1, block_size=1, total_size=None):\n",
    "        self.total = total_size\n",
    "        self.update((block_num - self.last_block) * block_size)\n",
    "        self.last_block = block_num\n",
    "\n",
    "if not isfile('cifar-10-python.tar.gz'):\n",
    "    with DLProgress(unit='B', unit_scale=True, miniters=1, desc='CIFAR-10 Dataset') as pbar:\n",
    "        urlretrieve(\n",
    "            'https://www.cs.toronto.edu/~kriz/cifar-10-python.tar.gz',\n",
    "            'cifar-10-python.tar.gz',\n",
    "            pbar.hook)\n",
    "\n",
    "if not isdir(cifar10_dataset_folder_path):\n",
    "    with tarfile.open('cifar-10-python.tar.gz') as tar:\n",
    "        tar.extractall()\n",
    "        tar.close()\n",
    "\n",
    "\n",
    "tests.test_folder_path(cifar10_dataset_folder_path)"
   ]
  },
  {
   "cell_type": "markdown",
   "metadata": {
    "deletable": true,
    "editable": true
   },
   "source": [
    "## Explore the Data\n",
    "The dataset is broken into batches to prevent your machine from running out of memory.  The CIFAR-10 dataset consists of 5 batches, named `data_batch_1`, `data_batch_2`, etc.. Each batch contains the labels and images that are one of the following:\n",
    "* airplane\n",
    "* automobile\n",
    "* bird\n",
    "* cat\n",
    "* deer\n",
    "* dog\n",
    "* frog\n",
    "* horse\n",
    "* ship\n",
    "* truck\n",
    "\n",
    "Understanding a dataset is part of making predictions on the data.  Play around with the code cell below by changing the `batch_id` and `sample_id`. The `batch_id` is the id for a batch (1-5). The `sample_id` is the id for a image and label pair in the batch.\n",
    "\n",
    "Ask yourself \"What are all possible labels?\", \"What is the range of values for the image data?\", \"Are the labels in order or random?\".  Answers to questions like these will help you preprocess the data and end up with better predictions."
   ]
  },
  {
   "cell_type": "code",
   "execution_count": 2,
   "metadata": {
    "collapsed": false,
    "deletable": true,
    "editable": true
   },
   "outputs": [
    {
     "name": "stdout",
     "output_type": "stream",
     "text": [
      "\n",
      "Stats of batch 1:\n",
      "Samples: 10000\n",
      "Label Counts: {0: 1005, 1: 974, 2: 1032, 3: 1016, 4: 999, 5: 937, 6: 1030, 7: 1001, 8: 1025, 9: 981}\n",
      "First 20 Labels: [6, 9, 9, 4, 1, 1, 2, 7, 8, 3, 4, 7, 7, 2, 9, 9, 9, 3, 2, 6]\n",
      "\n",
      "Example of Image 5:\n",
      "Image - Min Value: 0 Max Value: 252\n",
      "Image - Shape: (32, 32, 3)\n",
      "Label - Label Id: 1 Name: automobile\n"
     ]
    },
    {
     "data": {
      "image/png": "[encoded data removed]",
      "text/plain": [
       "<matplotlib.figure.Figure at 0x7fe4d6de5128>"
      ]
     },
     "metadata": {
      "image/png": {
       "height": 250,
       "width": 253
      }
     },
     "output_type": "display_data"
    }
   ],
   "source": [
    "%matplotlib inline\n",
    "%config InlineBackend.figure_format = 'retina'\n",
    "\n",
    "import helper\n",
    "import numpy as np\n",
    "\n",
    "# Explore the dataset\n",
    "batch_id = 1\n",
    "sample_id = 5\n",
    "helper.display_stats(cifar10_dataset_folder_path, batch_id, sample_id)"
   ]
  },
  {
   "cell_type": "markdown",
   "metadata": {
    "deletable": true,
    "editable": true
   },
   "source": [
    "## Implement Preprocess Functions\n",
    "### Normalize\n",
    "In the cell below, implement the `normalize` function to take in image data, `x`, and return it as a normalized Numpy array. The values should be in the range of 0 to 1, inclusive.  The return object should be the same shape as `x`."
   ]
  },
  {
   "cell_type": "code",
   "execution_count": 3,
   "metadata": {
    "collapsed": false,
    "deletable": true,
    "editable": true
   },
   "outputs": [
    {
     "name": "stdout",
     "output_type": "stream",
     "text": [
      "Tests Passed\n"
     ]
    }
   ],
   "source": [
    "def normalize(x):\n",
    "    \"\"\"\n",
    "    Normalize a list of sample image data in the range of 0 to 1\n",
    "    : x: List of image data.  The image shape is (32, 32, 3)\n",
    "    : return: Numpy array of normalize data\n",
    "    \"\"\"\n",
    "    # TODO: Implement Function\n",
    "    return x / 255\n",
    "\n",
    "\n",
    "\"\"\"\n",
    "DON'T MODIFY ANYTHING IN THIS CELL THAT IS BELOW THIS LINE\n",
    "\"\"\"\n",
    "tests.test_normalize(normalize)"
   ]
  },
  {
   "cell_type": "markdown",
   "metadata": {
    "deletable": true,
    "editable": true
   },
   "source": [
    "### One-hot encode\n",
    "Just like the previous code cell, you'll be implementing a function for preprocessing.  This time, you'll implement the `one_hot_encode` function. The input, `x`, are a list of labels.  Implement the function to return the list of labels as One-Hot encoded Numpy array.  The possible values for labels are 0 to 9. The one-hot encoding function should return the same encoding for each value between each call to `one_hot_encode`.  Make sure to save the map of encodings outside the function.\n",
    "\n",
    "Hint: Don't reinvent the wheel."
   ]
  },
  {
   "cell_type": "code",
   "execution_count": 4,
   "metadata": {
    "collapsed": false,
    "deletable": true,
    "editable": true
   },
   "outputs": [
    {
     "name": "stdout",
     "output_type": "stream",
     "text": [
      "Tests Passed\n"
     ]
    }
   ],
   "source": [
    "def one_hot_encode(x):\n",
    "    \"\"\"\n",
    "    One hot encode a list of sample labels. Return a one-hot encoded vector for each label.\n",
    "    : x: List of sample Labels\n",
    "    : return: Numpy array of one-hot encoded labels\n",
    "    \"\"\"\n",
    "    # TODO: Implement Function\n",
    "    one_hot = np.zeros((len(x), 10))\n",
    "    for i in range(len(x)):\n",
    "        one_hot[i][x[i]] = 1\n",
    "    return one_hot\n",
    "\n",
    "\n",
    "\"\"\"\n",
    "DON'T MODIFY ANYTHING IN THIS CELL THAT IS BELOW THIS LINE\n",
    "\"\"\"\n",
    "tests.test_one_hot_encode(one_hot_encode)"
   ]
  },
  {
   "cell_type": "markdown",
   "metadata": {
    "deletable": true,
    "editable": true
   },
   "source": [
    "### Randomize Data\n",
    "As you saw from exploring the data above, the order of the samples are randomized.  It doesn't hurt to randomize it again, but you don't need to for this dataset."
   ]
  },
  {
   "cell_type": "markdown",
   "metadata": {
    "deletable": true,
    "editable": true
   },
   "source": [
    "## Preprocess all the data and save it\n",
    "Running the code cell below will preprocess all the CIFAR-10 data and save it to file. The code below also uses 10% of the training data for validation."
   ]
  },
  {
   "cell_type": "code",
   "execution_count": 5,
   "metadata": {
    "collapsed": false,
    "deletable": true,
    "editable": true
   },
   "outputs": [],
   "source": [
    "\"\"\"\n",
    "DON'T MODIFY ANYTHING IN THIS CELL\n",
    "\"\"\"\n",
    "# Preprocess Training, Validation, and Testing Data\n",
    "helper.preprocess_and_save_data(cifar10_dataset_folder_path, normalize, one_hot_encode)"
   ]
  },
  {
   "cell_type": "markdown",
   "metadata": {
    "deletable": true,
    "editable": true
   },
   "source": [
    "# Check Point\n",
    "This is your first checkpoint.  If you ever decide to come back to this notebook or have to restart the notebook, you can start from here.  The preprocessed data has been saved to disk."
   ]
  },
  {
   "cell_type": "code",
   "execution_count": 6,
   "metadata": {
    "collapsed": false,
    "deletable": true,
    "editable": true
   },
   "outputs": [],
   "source": [
    "\"\"\"\n",
    "DON'T MODIFY ANYTHING IN THIS CELL\n",
    "\"\"\"\n",
    "import pickle\n",
    "import problem_unittests as tests\n",
    "import helper\n",
    "\n",
    "# Load the Preprocessed Validation data\n",
    "valid_features, valid_labels = pickle.load(open('preprocess_validation.p', mode='rb'))"
   ]
  },
  {
   "cell_type": "markdown",
   "metadata": {
    "deletable": true,
    "editable": true
   },
   "source": [
    "## Build the network\n",
    "For the neural network, you'll build each layer into a function.  Most of the code you've seen has been outside of functions. To test your code more thoroughly, we require that you put each layer in a function.  This allows us to give you better feedback and test for simple mistakes using our unittests before you submit your project.\n",
    "\n",
    "If you're finding it hard to dedicate enough time for this course a week, we've provided a small shortcut to this part of the project. In the next couple of problems, you'll have the option to use [TensorFlow Layers](https://www.tensorflow.org/api_docs/python/tf/layers) or [TensorFlow Layers (contrib)](https://www.tensorflow.org/api_guides/python/contrib.layers) to build each layer, except \"Convolutional & Max Pooling\" layer.  TF Layers is similar to Keras's and TFLearn's abstraction to layers, so it's easy to pickup.\n",
    "\n",
    "If you would like to get the most of this course, try to solve all the problems without TF Layers.  Let's begin!\n",
    "### Input\n",
    "The neural network needs to read the image data, one-hot encoded labels, and dropout keep probability. Implement the following functions\n",
    "* Implement `neural_net_image_input`\n",
    " * Return a [TF Placeholder](https://www.tensorflow.org/api_docs/python/tf/placeholder)\n",
    " * Set the shape using `image_shape` with batch size set to `None`.\n",
    " * Name the TensorFlow placeholder \"x\" using the TensorFlow `name` parameter in the [TF Placeholder](https://www.tensorflow.org/api_docs/python/tf/placeholder).\n",
    "* Implement `neural_net_label_input`\n",
    " * Return a [TF Placeholder](https://www.tensorflow.org/api_docs/python/tf/placeholder)\n",
    " * Set the shape using `n_classes` with batch size set to `None`.\n",
    " * Name the TensorFlow placeholder \"y\" using the TensorFlow `name` parameter in the [TF Placeholder](https://www.tensorflow.org/api_docs/python/tf/placeholder).\n",
    "* Implement `neural_net_keep_prob_input`\n",
    " * Return a [TF Placeholder](https://www.tensorflow.org/api_docs/python/tf/placeholder) for dropout keep probability.\n",
    " * Name the TensorFlow placeholder \"keep_prob\" using the TensorFlow `name` parameter in the [TF Placeholder](https://www.tensorflow.org/api_docs/python/tf/placeholder).\n",
    "\n",
    "These names will be used at the end of the project to load your saved model.\n",
    "\n",
    "Note: `None` for shapes in TensorFlow allow for a dynamic size."
   ]
  },
  {
   "cell_type": "code",
   "execution_count": 7,
   "metadata": {
    "collapsed": false,
    "deletable": true,
    "editable": true
   },
   "outputs": [
    {
     "name": "stdout",
     "output_type": "stream",
     "text": [
      "Image Input Tests Passed.\n",
      "Label Input Tests Passed.\n",
      "Keep Prob Tests Passed.\n"
     ]
    }
   ],
   "source": [
    "import tensorflow as tf\n",
    "\n",
    "def neural_net_image_input(image_shape):\n",
    "    \"\"\"\n",
    "    Return a Tensor for a batch of image input\n",
    "    : image_shape: Shape of the images\n",
    "    : return: Tensor for image input.\n",
    "    \"\"\"\n",
    "    # TODO: Implement Function\n",
    "    return tf.placeholder(tf.float32,\n",
    "                          shape = [None, image_shape[0], image_shape[1], image_shape[2]],\n",
    "                          name = 'x')\n",
    "\n",
    "\n",
    "def neural_net_label_input(n_classes):\n",
    "    \"\"\"\n",
    "    Return a Tensor for a batch of label input\n",
    "    : n_classes: Number of classes\n",
    "    : return: Tensor for label input.\n",
    "    \"\"\"\n",
    "    # TODO: Implement Function\n",
    "    return tf.placeholder(tf.float32,\n",
    "                          shape = [None, n_classes],\n",
    "                          name = 'y')\n",
    "\n",
    "\n",
    "def neural_net_keep_prob_input():\n",
    "    \"\"\"\n",
    "    Return a Tensor for keep probability\n",
    "    : return: Tensor for keep probability.\n",
    "    \"\"\"\n",
    "    # TODO: Implement Function\n",
    "    return tf.placeholder(tf.float32, name = 'keep_prob')\n",
    "\n",
    "\n",
    "\"\"\"\n",
    "DON'T MODIFY ANYTHING IN THIS CELL THAT IS BELOW THIS LINE\n",
    "\"\"\"\n",
    "tf.reset_default_graph()\n",
    "tests.test_nn_image_inputs(neural_net_image_input)\n",
    "tests.test_nn_label_inputs(neural_net_label_input)\n",
    "tests.test_nn_keep_prob_inputs(neural_net_keep_prob_input)"
   ]
  },
  {
   "cell_type": "markdown",
   "metadata": {
    "deletable": true,
    "editable": true
   },
   "source": [
    "### Convolution and Max Pooling Layer\n",
    "Convolution layers have a lot of success with images. For this code cell, you should implement the function `conv2d_maxpool` to apply convolution then max pooling:\n",
    "* Create the weight and bias using `conv_ksize`, `conv_num_outputs` and the shape of `x_tensor`.\n",
    "* Apply a convolution to `x_tensor` using weight and `conv_strides`.\n",
    " * We recommend you use same padding, but you're welcome to use any padding.\n",
    "* Add bias\n",
    "* Add a nonlinear activation to the convolution.\n",
    "* Apply Max Pooling using `pool_ksize` and `pool_strides`.\n",
    " * We recommend you use same padding, but you're welcome to use any padding.\n",
    "\n",
    "Note: You **can't** use [TensorFlow Layers](https://www.tensorflow.org/api_docs/python/tf/layers) or [TensorFlow Layers (contrib)](https://www.tensorflow.org/api_guides/python/contrib.layers) for this layer.  You're free to use any TensorFlow package for all the other layers."
   ]
  },
  {
   "cell_type": "code",
   "execution_count": 8,
   "metadata": {
    "collapsed": false,
    "deletable": true,
    "editable": true
   },
   "outputs": [
    {
     "name": "stdout",
     "output_type": "stream",
     "text": [
      "Tests Passed\n"
     ]
    }
   ],
   "source": [
    "def conv2d_maxpool(x_tensor, conv_num_outputs, conv_ksize, conv_strides, pool_ksize, pool_strides):\n",
    "    \"\"\"\n",
    "    Apply convolution then max pooling to x_tensor\n",
    "    :param x_tensor: TensorFlow Tensor\n",
    "    :param conv_num_outputs: Number of outputs for the convolutional layer\n",
    "    :param conv_strides: Stride 2-D Tuple for convolution\n",
    "    :param pool_ksize: kernal size 2-D Tuple for pool\n",
    "    :param pool_strides: Stride 2-D Tuple for pool\n",
    "    : return: A tensor that represents convolution and max pooling of x_tensor\n",
    "    \"\"\"\n",
    "    # TODO: Implement Function\n",
    "    \n",
    "    # Input/Image\n",
    "    input = x_tensor\n",
    "    \n",
    "    # Weight and bias\n",
    "    weight = tf.Variable(tf.truncated_normal(\n",
    "        [conv_ksize[0], conv_ksize[1], x_tensor.get_shape().as_list()[-1], conv_num_outputs], stddev=0.1))\n",
    "    bias = tf.Variable(tf.zeros(conv_num_outputs))\n",
    "    \n",
    "    # Apply Convolution\n",
    "    conv_layer = tf.nn.conv2d(input, weight, strides=[1, conv_strides[0], conv_strides[1], 1], padding='SAME')\n",
    "    # Add bias\n",
    "    conv_layer = tf.nn.bias_add(conv_layer, bias)\n",
    "    # Apply activation function\n",
    "    conv_layer = tf.nn.relu(conv_layer)\n",
    "    \n",
    "    # Apply maxpooling\n",
    "    conv_layer = tf.nn.max_pool(\n",
    "        conv_layer,\n",
    "        ksize=[1, pool_ksize[0], pool_ksize[1], 1],\n",
    "        strides=[1, pool_strides[0], pool_strides[1], 1],\n",
    "        padding='SAME')\n",
    "    return conv_layer \n",
    "\n",
    "\n",
    "\"\"\"\n",
    "DON'T MODIFY ANYTHING IN THIS CELL THAT IS BELOW THIS LINE\n",
    "\"\"\"\n",
    "tests.test_con_pool(conv2d_maxpool)"
   ]
  },
  {
   "cell_type": "markdown",
   "metadata": {
    "deletable": true,
    "editable": true
   },
   "source": [
    "### Flatten Layer\n",
    "Implement the `flatten` function to change the dimension of `x_tensor` from a 4-D tensor to a 2-D tensor.  The output should be the shape (*Batch Size*, *Flattened Image Size*). You can use [TensorFlow Layers](https://www.tensorflow.org/api_docs/python/tf/layers) or [TensorFlow Layers (contrib)](https://www.tensorflow.org/api_guides/python/contrib.layers) for this layer."
   ]
  },
  {
   "cell_type": "code",
   "execution_count": 9,
   "metadata": {
    "collapsed": false,
    "deletable": true,
    "editable": true
   },
   "outputs": [
    {
     "name": "stdout",
     "output_type": "stream",
     "text": [
      "Tests Passed\n"
     ]
    }
   ],
   "source": [
    "def flatten(x_tensor):\n",
    "    \"\"\"\n",
    "    Flatten x_tensor to (Batch Size, Flattened Image Size)\n",
    "    : x_tensor: A tensor of size (Batch Size, ...), where ... are the image dimensions.\n",
    "    : return: A tensor of size (Batch Size, Flattened Image Size).\n",
    "    \"\"\"\n",
    "    # TODO: Implement Function\n",
    "    batch_size = x_tensor.get_shape().as_list()[0]# i tried as_list()[] \n",
    "    width = x_tensor.get_shape().as_list()[1]\n",
    "    height = x_tensor.get_shape().as_list()[2]\n",
    "    depth = x_tensor.get_shape().as_list()[3]\n",
    "\n",
    "    image_flat_size = width * height * depth\n",
    "\n",
    "    return tf.contrib.layers.flatten(x_tensor, [batch_size, image_flat_size])\n",
    "\n",
    "\n",
    "\"\"\"\n",
    "DON'T MODIFY ANYTHING IN THIS CELL THAT IS BELOW THIS LINE\n",
    "\"\"\"\n",
    "tests.test_flatten(flatten)"
   ]
  },
  {
   "cell_type": "markdown",
   "metadata": {
    "deletable": true,
    "editable": true
   },
   "source": [
    "### Fully-Connected Layer\n",
    "Implement the `fully_conn` function to apply a fully connected layer to `x_tensor` with the shape (*Batch Size*, *num_outputs*). You can use [TensorFlow Layers](https://www.tensorflow.org/api_docs/python/tf/layers) or [TensorFlow Layers (contrib)](https://www.tensorflow.org/api_guides/python/contrib.layers) for this layer."
   ]
  },
  {
   "cell_type": "code",
   "execution_count": 10,
   "metadata": {
    "collapsed": false,
    "deletable": true,
    "editable": true
   },
   "outputs": [
    {
     "name": "stdout",
     "output_type": "stream",
     "text": [
      "Tests Passed\n"
     ]
    }
   ],
   "source": [
    "def fully_conn(x_tensor, num_outputs):\n",
    "    \"\"\"\n",
    "    Apply a fully connected layer to x_tensor using weight and bias\n",
    "    : x_tensor: A 2-D tensor where the first dimension is batch size.\n",
    "    : num_outputs: The number of output that the new tensor should be.\n",
    "    : return: A 2-D tensor where the second dimension is num_outputs.\n",
    "    \"\"\"\n",
    "    # TODO: Implement Function\n",
    "    return tf.contrib.layers.fully_connected(x_tensor, num_outputs)\n",
    "\n",
    "\n",
    "\"\"\"\n",
    "DON'T MODIFY ANYTHING IN THIS CELL THAT IS BELOW THIS LINE\n",
    "\"\"\"\n",
    "tests.test_fully_conn(fully_conn)"
   ]
  },
  {
   "cell_type": "markdown",
   "metadata": {
    "deletable": true,
    "editable": true
   },
   "source": [
    "### Output Layer\n",
    "Implement the `output` function to apply a fully connected layer to `x_tensor` with the shape (*Batch Size*, *num_outputs*). You can use [TensorFlow Layers](https://www.tensorflow.org/api_docs/python/tf/layers) or [TensorFlow Layers (contrib)](https://www.tensorflow.org/api_guides/python/contrib.layers) for this layer.\n",
    "\n",
    "Note: Activation, softmax, or cross entropy shouldn't be applied to this."
   ]
  },
  {
   "cell_type": "code",
   "execution_count": 11,
   "metadata": {
    "collapsed": false,
    "deletable": true,
    "editable": true
   },
   "outputs": [
    {
     "name": "stdout",
     "output_type": "stream",
     "text": [
      "Tests Passed\n"
     ]
    }
   ],
   "source": [
    "def output(x_tensor, num_outputs):\n",
    "    \"\"\"\n",
    "    Apply a output layer to x_tensor using weight and bias\n",
    "    : x_tensor: A 2-D tensor where the first dimension is batch size.\n",
    "    : num_outputs: The number of output that the new tensor should be.\n",
    "    : return: A 2-D tensor where the second dimension is num_outputs.\n",
    "    \"\"\"\n",
    "    # TODO: Implement Function\n",
    "    weights = tf.Variable(tf.truncated_normal([x_tensor.get_shape().as_list()[1], num_outputs])) \n",
    "    mul = tf.matmul(x_tensor, weights, name='mul')\n",
    "    bias = tf.Variable(tf.zeros(num_outputs))\n",
    "    \n",
    "    return tf.add(mul, bias)\n",
    "\n",
    "#     y = tf.add(mul, bias)\n",
    "#     fc = tf.contrib.layers.fully_connected(y, num_outputs)\n",
    "#     return fc\n",
    "\n",
    "\"\"\"\n",
    "DON'T MODIFY ANYTHING IN THIS CELL THAT IS BELOW THIS LINE\n",
    "\"\"\"\n",
    "tests.test_output(output)"
   ]
  },
  {
   "cell_type": "markdown",
   "metadata": {
    "deletable": true,
    "editable": true
   },
   "source": [
    "### Create Convolutional Model\n",
    "Implement the function `conv_net` to create a convolutional neural network model. The function takes in a batch of images, `x`, and outputs logits.  Use the layers you created above to create this model:\n",
    "\n",
    "* Apply 1, 2, or 3 Convolution and Max Pool layers\n",
    "* Apply a Flatten Layer\n",
    "* Apply 1, 2, or 3 Fully Connected Layers\n",
    "* Apply an Output Layer\n",
    "* Return the output\n",
    "* Apply [TensorFlow's Dropout](https://www.tensorflow.org/api_docs/python/tf/nn/dropout) to one or more layers in the model using `keep_prob`. "
   ]
  },
  {
   "cell_type": "code",
   "execution_count": 12,
   "metadata": {
    "collapsed": false,
    "deletable": true,
    "editable": true
   },
   "outputs": [
    {
     "name": "stdout",
     "output_type": "stream",
     "text": [
      "Neural Network Built!\n"
     ]
    }
   ],
   "source": [
    "def conv_net(x, keep_prob):\n",
    "    \"\"\"\n",
    "    Create a convolutional neural network model\n",
    "    : x: Placeholder tensor that holds image data.\n",
    "    : keep_prob: Placeholder tensor that hold dropout keep probability.\n",
    "    : return: Tensor that represents logits\n",
    "    \"\"\"\n",
    "    # TODO: Apply 1, 2, or 3 Convolution and Max Pool layers\n",
    "    #    Play around with different number of outputs, kernel size and stride\n",
    "    # Function Definition from Above:\n",
    "    #    conv2d_maxpool(x_tensor, conv_num_outputs, conv_ksize, conv_strides, pool_ksize, pool_strides)\n",
    "    conv_num_outputs = 10\n",
    "    conv_ksize = [2, 2]\n",
    "    conv_strides = [2, 2]\n",
    "    pool_ksize = [2, 2]\n",
    "    pool_strides = [2, 2]\n",
    "    conv_layer = conv2d_maxpool(x, conv_num_outputs, conv_ksize, conv_strides, pool_ksize, pool_strides)\n",
    "\n",
    "    # TODO: Apply a Flatten Layer\n",
    "    # Function Definition from Above:\n",
    "    #   flatten(x_tensor)\n",
    "    conv_layer = flatten(conv_layer)\n",
    "    \n",
    "\n",
    "    # TODO: Apply 1, 2, or 3 Fully Connected Layers\n",
    "    #    Play around with different number of outputs\n",
    "    # Function Definition from Above:\n",
    "    #   fully_conn(x_tensor, num_outputs)\n",
    "    num_outputs = 10\n",
    "    conv_layer = fully_conn(conv_layer, num_outputs)\n",
    "    \n",
    "    # TODO: Apply an Output Layer\n",
    "    #    Set this to the number of classes\n",
    "    # Function Definition from Above:\n",
    "    #   output(x_tensor, num_outputs)\n",
    "    num_classes = 10\n",
    "    conv_layer = output(conv_layer, num_classes)\n",
    "    \n",
    "    # TODO: return output\n",
    "    return conv_layer\n",
    "\n",
    "\n",
    "\"\"\"\n",
    "DON'T MODIFY ANYTHING IN THIS CELL THAT IS BELOW THIS LINE\n",
    "\"\"\"\n",
    "\n",
    "##############################\n",
    "## Build the Neural Network ##\n",
    "##############################\n",
    "\n",
    "# Remove previous weights, bias, inputs, etc..\n",
    "tf.reset_default_graph()\n",
    "\n",
    "# Inputs\n",
    "x = neural_net_image_input((32, 32, 3))\n",
    "y = neural_net_label_input(10)\n",
    "keep_prob = neural_net_keep_prob_input()\n",
    "\n",
    "# Model\n",
    "logits = conv_net(x, keep_prob)\n",
    "\n",
    "# Name logits Tensor, so that is can be loaded from disk after training\n",
    "logits = tf.identity(logits, name='logits')\n",
    "\n",
    "# Loss and Optimizer\n",
    "cost = tf.reduce_mean(tf.nn.softmax_cross_entropy_with_logits(logits=logits, labels=y))\n",
    "optimizer = tf.train.AdamOptimizer().minimize(cost)\n",
    "\n",
    "# Accuracy\n",
    "correct_pred = tf.equal(tf.argmax(logits, 1), tf.argmax(y, 1))\n",
    "accuracy = tf.reduce_mean(tf.cast(correct_pred, tf.float32), name='accuracy')\n",
    "\n",
    "tests.test_conv_net(conv_net)"
   ]
  },
  {
   "cell_type": "markdown",
   "metadata": {
    "deletable": true,
    "editable": true
   },
   "source": [
    "## Train the Neural Network\n",
    "### Single Optimization\n",
    "Implement the function `train_neural_network` to do a single optimization.  The optimization should use `optimizer` to optimize in `session` with a `feed_dict` of the following:\n",
    "* `x` for image input\n",
    "* `y` for labels\n",
    "* `keep_prob` for keep probability for dropout\n",
    "\n",
    "This function will be called for each batch, so `tf.global_variables_initializer()` has already been called.\n",
    "\n",
    "Note: Nothing needs to be returned. This function is only optimizing the neural network."
   ]
  },
  {
   "cell_type": "code",
   "execution_count": 13,
   "metadata": {
    "collapsed": false,
    "deletable": true,
    "editable": true
   },
   "outputs": [
    {
     "name": "stdout",
     "output_type": "stream",
     "text": [
      "Tests Passed\n"
     ]
    }
   ],
   "source": [
    "def train_neural_network(session, optimizer, keep_probability, feature_batch, label_batch):\n",
    "    \"\"\"\n",
    "    Optimize the session on a batch of images and labels\n",
    "    : session: Current TensorFlow session\n",
    "    : optimizer: TensorFlow optimizer function\n",
    "    : keep_probability: keep probability\n",
    "    : feature_batch: Batch of Numpy image data\n",
    "    : label_batch: Batch of Numpy label data\n",
    "    \"\"\"\n",
    "    # TODO: Implement Function\n",
    "    session.run(optimizer, feed_dict={x: feature_batch, y: label_batch, keep_prob: keep_probability})\n",
    "\n",
    "\n",
    "\"\"\"\n",
    "DON'T MODIFY ANYTHING IN THIS CELL THAT IS BELOW THIS LINE\n",
    "\"\"\"\n",
    "tests.test_train_nn(train_neural_network)"
   ]
  },
  {
   "cell_type": "markdown",
   "metadata": {
    "deletable": true,
    "editable": true
   },
   "source": [
    "### Show Stats\n",
    "Implement the function `print_stats` to print loss and validation accuracy.  Use the global variables `valid_features` and `valid_labels` to calculate validation accuracy.  Use a keep probability of `1.0` to calculate the loss and validation accuracy."
   ]
  },
  {
   "cell_type": "code",
   "execution_count": 14,
   "metadata": {
    "collapsed": false,
    "deletable": true,
    "editable": true
   },
   "outputs": [],
   "source": [
    "def print_stats(session, feature_batch, label_batch, cost, accuracy):\n",
    "    \"\"\"\n",
    "    Print information about loss and validation accuracy\n",
    "    : session: Current TensorFlow session\n",
    "    : feature_batch: Batch of Numpy image data\n",
    "    : label_batch: Batch of Numpy label data\n",
    "    : cost: TensorFlow cost function\n",
    "    : accuracy: TensorFlow accuracy function\n",
    "    \"\"\"\n",
    "    # TODO: Implement Function\n",
    "    loss = session.run(cost, feed_dict={x: feature_batch, y: label_batch, keep_prob: 1.0})\n",
    "    valid_acc = session.run(accuracy, feed_dict={x: valid_features, y: valid_labels, keep_prob: 1.0})\n",
    "    print('Loss: {:>10.4f} Accuracy: {:.6f}'.format(loss, valid_acc))"
   ]
  },
  {
   "cell_type": "markdown",
   "metadata": {
    "deletable": true,
    "editable": true
   },
   "source": [
    "### Hyperparameters\n",
    "Tune the following parameters:\n",
    "* Set `epochs` to the number of iterations until the network stops learning or start overfitting\n",
    "* Set `batch_size` to the highest number that your machine has memory for.  Most people set them to common sizes of memory:\n",
    " * 64\n",
    " * 128\n",
    " * 256\n",
    " * ...\n",
    "* Set `keep_probability` to the probability of keeping a node using dropout"
   ]
  },
  {
   "cell_type": "code",
   "execution_count": 23,
   "metadata": {
    "collapsed": true,
    "deletable": true,
    "editable": true
   },
   "outputs": [],
   "source": [
    "# TODO: Tune Parameters\n",
    "epochs = 100\n",
    "batch_size = 256\n",
    "keep_probability = 0.2"
   ]
  },
  {
   "cell_type": "markdown",
   "metadata": {
    "deletable": true,
    "editable": true
   },
   "source": [
    "### Train on a Single CIFAR-10 Batch\n",
    "Instead of training the neural network on all the CIFAR-10 batches of data, let's use a single batch. This should save time while you iterate on the model to get a better accuracy.  Once the final validation accuracy is 50% or greater, run the model on all the data in the next section."
   ]
  },
  {
   "cell_type": "code",
   "execution_count": 24,
   "metadata": {
    "collapsed": false,
    "deletable": true,
    "editable": true
   },
   "outputs": [
    {
     "name": "stdout",
     "output_type": "stream",
     "text": [
      "Checking the Training on a Single Batch...\n",
      "Epoch  1, CIFAR-10 Batch 1:  Loss:     2.2889 Accuracy: 0.176600\n",
      "Epoch  2, CIFAR-10 Batch 1:  Loss:     2.2921 Accuracy: 0.207600\n",
      "Epoch  3, CIFAR-10 Batch 1:  Loss:     2.2796 Accuracy: 0.215200\n",
      "Epoch  4, CIFAR-10 Batch 1:  Loss:     2.2641 Accuracy: 0.217800\n",
      "Epoch  5, CIFAR-10 Batch 1:  Loss:     2.2354 Accuracy: 0.225000\n",
      "Epoch  6, CIFAR-10 Batch 1:  Loss:     2.2033 Accuracy: 0.236400\n",
      "Epoch  7, CIFAR-10 Batch 1:  Loss:     2.1698 Accuracy: 0.249200\n",
      "Epoch  8, CIFAR-10 Batch 1:  Loss:     2.1310 Accuracy: 0.268400\n",
      "Epoch  9, CIFAR-10 Batch 1:  Loss:     2.0925 Accuracy: 0.293600\n",
      "Epoch 10, CIFAR-10 Batch 1:  Loss:     2.0588 Accuracy: 0.308400\n",
      "Epoch 11, CIFAR-10 Batch 1:  Loss:     2.0222 Accuracy: 0.330400\n",
      "Epoch 12, CIFAR-10 Batch 1:  Loss:     1.9836 Accuracy: 0.339400\n",
      "Epoch 13, CIFAR-10 Batch 1:  Loss:     1.9462 Accuracy: 0.350200\n",
      "Epoch 14, CIFAR-10 Batch 1:  Loss:     1.9072 Accuracy: 0.361600\n",
      "Epoch 15, CIFAR-10 Batch 1:  Loss:     1.8769 Accuracy: 0.366200\n",
      "Epoch 16, CIFAR-10 Batch 1:  Loss:     1.8475 Accuracy: 0.368800\n",
      "Epoch 17, CIFAR-10 Batch 1:  Loss:     1.8163 Accuracy: 0.375400\n",
      "Epoch 18, CIFAR-10 Batch 1:  Loss:     1.7928 Accuracy: 0.378400\n",
      "Epoch 19, CIFAR-10 Batch 1:  Loss:     1.7659 Accuracy: 0.381400\n",
      "Epoch 20, CIFAR-10 Batch 1:  Loss:     1.7407 Accuracy: 0.383200\n",
      "Epoch 21, CIFAR-10 Batch 1:  Loss:     1.7198 Accuracy: 0.385000\n",
      "Epoch 22, CIFAR-10 Batch 1:  Loss:     1.6975 Accuracy: 0.386000\n",
      "Epoch 23, CIFAR-10 Batch 1:  Loss:     1.6767 Accuracy: 0.387400\n",
      "Epoch 24, CIFAR-10 Batch 1:  Loss:     1.6559 Accuracy: 0.387800\n",
      "Epoch 25, CIFAR-10 Batch 1:  Loss:     1.6376 Accuracy: 0.388600\n",
      "Epoch 26, CIFAR-10 Batch 1:  Loss:     1.6202 Accuracy: 0.390600\n",
      "Epoch 27, CIFAR-10 Batch 1:  Loss:     1.6020 Accuracy: 0.392200\n",
      "Epoch 28, CIFAR-10 Batch 1:  Loss:     1.5810 Accuracy: 0.395000\n",
      "Epoch 29, CIFAR-10 Batch 1:  Loss:     1.5646 Accuracy: 0.392800\n",
      "Epoch 30, CIFAR-10 Batch 1:  Loss:     1.5471 Accuracy: 0.394400\n",
      "Epoch 31, CIFAR-10 Batch 1:  Loss:     1.5312 Accuracy: 0.397600\n",
      "Epoch 32, CIFAR-10 Batch 1:  Loss:     1.5164 Accuracy: 0.399400\n",
      "Epoch 33, CIFAR-10 Batch 1:  Loss:     1.5018 Accuracy: 0.399800\n",
      "Epoch 34, CIFAR-10 Batch 1:  Loss:     1.4879 Accuracy: 0.400200\n",
      "Epoch 35, CIFAR-10 Batch 1:  Loss:     1.4758 Accuracy: 0.400800\n",
      "Epoch 36, CIFAR-10 Batch 1:  Loss:     1.4633 Accuracy: 0.400400\n",
      "Epoch 37, CIFAR-10 Batch 1:  Loss:     1.4516 Accuracy: 0.401400\n",
      "Epoch 38, CIFAR-10 Batch 1:  Loss:     1.4396 Accuracy: 0.402600\n",
      "Epoch 39, CIFAR-10 Batch 1:  Loss:     1.4282 Accuracy: 0.404000\n",
      "Epoch 40, CIFAR-10 Batch 1:  Loss:     1.4169 Accuracy: 0.404800\n",
      "Epoch 41, CIFAR-10 Batch 1:  Loss:     1.4069 Accuracy: 0.406800\n",
      "Epoch 42, CIFAR-10 Batch 1:  Loss:     1.3957 Accuracy: 0.407400\n",
      "Epoch 43, CIFAR-10 Batch 1:  Loss:     1.3857 Accuracy: 0.408400\n",
      "Epoch 44, CIFAR-10 Batch 1:  Loss:     1.3758 Accuracy: 0.408000\n",
      "Epoch 45, CIFAR-10 Batch 1:  Loss:     1.3662 Accuracy: 0.409600\n",
      "Epoch 46, CIFAR-10 Batch 1:  Loss:     1.3563 Accuracy: 0.409800\n",
      "Epoch 47, CIFAR-10 Batch 1:  Loss:     1.3475 Accuracy: 0.410400\n",
      "Epoch 48, CIFAR-10 Batch 1:  Loss:     1.3398 Accuracy: 0.410000\n",
      "Epoch 49, CIFAR-10 Batch 1:  Loss:     1.3302 Accuracy: 0.410600\n",
      "Epoch 50, CIFAR-10 Batch 1:  Loss:     1.3215 Accuracy: 0.410600\n",
      "Epoch 51, CIFAR-10 Batch 1:  Loss:     1.3130 Accuracy: 0.411600\n",
      "Epoch 52, CIFAR-10 Batch 1:  Loss:     1.3049 Accuracy: 0.413000\n",
      "Epoch 53, CIFAR-10 Batch 1:  Loss:     1.2959 Accuracy: 0.413000\n",
      "Epoch 54, CIFAR-10 Batch 1:  Loss:     1.2869 Accuracy: 0.412800\n",
      "Epoch 55, CIFAR-10 Batch 1:  Loss:     1.2789 Accuracy: 0.412200\n",
      "Epoch 56, CIFAR-10 Batch 1:  Loss:     1.2711 Accuracy: 0.413400\n",
      "Epoch 57, CIFAR-10 Batch 1:  Loss:     1.2638 Accuracy: 0.413200\n",
      "Epoch 58, CIFAR-10 Batch 1:  Loss:     1.2564 Accuracy: 0.413400\n",
      "Epoch 59, CIFAR-10 Batch 1:  Loss:     1.2490 Accuracy: 0.413400\n",
      "Epoch 60, CIFAR-10 Batch 1:  Loss:     1.2419 Accuracy: 0.415000\n",
      "Epoch 61, CIFAR-10 Batch 1:  Loss:     1.2350 Accuracy: 0.414800\n",
      "Epoch 62, CIFAR-10 Batch 1:  Loss:     1.2286 Accuracy: 0.415400\n",
      "Epoch 63, CIFAR-10 Batch 1:  Loss:     1.2220 Accuracy: 0.417000\n",
      "Epoch 64, CIFAR-10 Batch 1:  Loss:     1.2149 Accuracy: 0.418200\n",
      "Epoch 65, CIFAR-10 Batch 1:  Loss:     1.2085 Accuracy: 0.418600\n",
      "Epoch 66, CIFAR-10 Batch 1:  Loss:     1.2020 Accuracy: 0.420400\n",
      "Epoch 67, CIFAR-10 Batch 1:  Loss:     1.1955 Accuracy: 0.421600\n",
      "Epoch 68, CIFAR-10 Batch 1:  Loss:     1.1901 Accuracy: 0.422400\n",
      "Epoch 69, CIFAR-10 Batch 1:  Loss:     1.1848 Accuracy: 0.423200\n",
      "Epoch 70, CIFAR-10 Batch 1:  Loss:     1.1795 Accuracy: 0.423800\n",
      "Epoch 71, CIFAR-10 Batch 1:  Loss:     1.1746 Accuracy: 0.424400\n",
      "Epoch 72, CIFAR-10 Batch 1:  Loss:     1.1698 Accuracy: 0.424800\n",
      "Epoch 73, CIFAR-10 Batch 1:  Loss:     1.1645 Accuracy: 0.426400\n",
      "Epoch 74, CIFAR-10 Batch 1:  Loss:     1.1591 Accuracy: 0.426800\n",
      "Epoch 75, CIFAR-10 Batch 1:  Loss:     1.1545 Accuracy: 0.428600\n",
      "Epoch 76, CIFAR-10 Batch 1:  Loss:     1.1489 Accuracy: 0.429200\n",
      "Epoch 77, CIFAR-10 Batch 1:  Loss:     1.1438 Accuracy: 0.430000\n",
      "Epoch 78, CIFAR-10 Batch 1:  Loss:     1.1386 Accuracy: 0.431200\n",
      "Epoch 79, CIFAR-10 Batch 1:  Loss:     1.1337 Accuracy: 0.430800\n",
      "Epoch 80, CIFAR-10 Batch 1:  Loss:     1.1283 Accuracy: 0.431600\n",
      "Epoch 81, CIFAR-10 Batch 1:  Loss:     1.1248 Accuracy: 0.431200\n",
      "Epoch 82, CIFAR-10 Batch 1:  Loss:     1.1198 Accuracy: 0.431800\n",
      "Epoch 83, CIFAR-10 Batch 1:  Loss:     1.1146 Accuracy: 0.432400\n",
      "Epoch 84, CIFAR-10 Batch 1:  Loss:     1.1099 Accuracy: 0.433800\n",
      "Epoch 85, CIFAR-10 Batch 1:  Loss:     1.1059 Accuracy: 0.434200\n",
      "Epoch 86, CIFAR-10 Batch 1:  Loss:     1.1012 Accuracy: 0.435000\n",
      "Epoch 87, CIFAR-10 Batch 1:  Loss:     1.0972 Accuracy: 0.436000\n",
      "Epoch 88, CIFAR-10 Batch 1:  Loss:     1.0932 Accuracy: 0.435600\n",
      "Epoch 89, CIFAR-10 Batch 1:  Loss:     1.0893 Accuracy: 0.436600\n",
      "Epoch 90, CIFAR-10 Batch 1:  Loss:     1.0855 Accuracy: 0.436200\n",
      "Epoch 91, CIFAR-10 Batch 1:  Loss:     1.0819 Accuracy: 0.436800\n",
      "Epoch 92, CIFAR-10 Batch 1:  Loss:     1.0779 Accuracy: 0.436800\n",
      "Epoch 93, CIFAR-10 Batch 1:  Loss:     1.0742 Accuracy: 0.436600\n",
      "Epoch 94, CIFAR-10 Batch 1:  Loss:     1.0710 Accuracy: 0.436000\n",
      "Epoch 95, CIFAR-10 Batch 1:  Loss:     1.0675 Accuracy: 0.436800\n",
      "Epoch 96, CIFAR-10 Batch 1:  Loss:     1.0638 Accuracy: 0.436600\n",
      "Epoch 97, CIFAR-10 Batch 1:  Loss:     1.0605 Accuracy: 0.437600\n",
      "Epoch 98, CIFAR-10 Batch 1:  Loss:     1.0570 Accuracy: 0.438200\n",
      "Epoch 99, CIFAR-10 Batch 1:  Loss:     1.0537 Accuracy: 0.438400\n",
      "Epoch 100, CIFAR-10 Batch 1:  Loss:     1.0504 Accuracy: 0.438800\n"
     ]
    }
   ],
   "source": [
    "\"\"\"\n",
    "DON'T MODIFY ANYTHING IN THIS CELL\n",
    "\"\"\"\n",
    "print('Checking the Training on a Single Batch...')\n",
    "with tf.Session() as sess:\n",
    "    # Initializing the variables\n",
    "    sess.run(tf.global_variables_initializer())\n",
    "    \n",
    "    # Training cycle\n",
    "    for epoch in range(epochs):\n",
    "        batch_i = 1\n",
    "        for batch_features, batch_labels in helper.load_preprocess_training_batch(batch_i, batch_size):\n",
    "            train_neural_network(sess, optimizer, keep_probability, batch_features, batch_labels)\n",
    "        print('Epoch {:>2}, CIFAR-10 Batch {}:  '.format(epoch + 1, batch_i), end='')\n",
    "        print_stats(sess, batch_features, batch_labels, cost, accuracy)"
   ]
  },
  {
   "cell_type": "markdown",
   "metadata": {
    "deletable": true,
    "editable": true
   },
   "source": [
    "### Fully Train the Model\n",
    "Now that you got a good accuracy with a single CIFAR-10 batch, try it with all five batches."
   ]
  },
  {
   "cell_type": "code",
   "execution_count": 25,
   "metadata": {
    "collapsed": false,
    "deletable": true,
    "editable": true
   },
   "outputs": [
    {
     "name": "stdout",
     "output_type": "stream",
     "text": [
      "Training...\n",
      "Epoch  1, CIFAR-10 Batch 1:  Loss:     2.3132 Accuracy: 0.188600\n",
      "Epoch  1, CIFAR-10 Batch 2:  Loss:     2.1482 Accuracy: 0.217600\n",
      "Epoch  1, CIFAR-10 Batch 3:  Loss:     2.0624 Accuracy: 0.243200\n",
      "Epoch  1, CIFAR-10 Batch 4:  Loss:     2.0247 Accuracy: 0.248200\n",
      "Epoch  1, CIFAR-10 Batch 5:  Loss:     2.0147 Accuracy: 0.275800\n",
      "Epoch  2, CIFAR-10 Batch 1:  Loss:     2.2152 Accuracy: 0.281200\n",
      "Epoch  2, CIFAR-10 Batch 2:  Loss:     1.8937 Accuracy: 0.300000\n",
      "Epoch  2, CIFAR-10 Batch 3:  Loss:     1.7888 Accuracy: 0.320200\n",
      "Epoch  2, CIFAR-10 Batch 4:  Loss:     1.8190 Accuracy: 0.316800\n",
      "Epoch  2, CIFAR-10 Batch 5:  Loss:     1.8558 Accuracy: 0.333800\n",
      "Epoch  3, CIFAR-10 Batch 1:  Loss:     2.0746 Accuracy: 0.357600\n",
      "Epoch  3, CIFAR-10 Batch 2:  Loss:     1.6814 Accuracy: 0.378400\n",
      "Epoch  3, CIFAR-10 Batch 3:  Loss:     1.6008 Accuracy: 0.385000\n",
      "Epoch  3, CIFAR-10 Batch 4:  Loss:     1.6722 Accuracy: 0.378600\n",
      "Epoch  3, CIFAR-10 Batch 5:  Loss:     1.7148 Accuracy: 0.384600\n",
      "Epoch  4, CIFAR-10 Batch 1:  Loss:     1.9897 Accuracy: 0.396000\n",
      "Epoch  4, CIFAR-10 Batch 2:  Loss:     1.5266 Accuracy: 0.414600\n",
      "Epoch  4, CIFAR-10 Batch 3:  Loss:     1.4601 Accuracy: 0.418000\n",
      "Epoch  4, CIFAR-10 Batch 4:  Loss:     1.6010 Accuracy: 0.408000\n",
      "Epoch  4, CIFAR-10 Batch 5:  Loss:     1.6073 Accuracy: 0.411400\n",
      "Epoch  5, CIFAR-10 Batch 1:  Loss:     1.9175 Accuracy: 0.425400\n",
      "Epoch  5, CIFAR-10 Batch 2:  Loss:     1.4216 Accuracy: 0.434800\n",
      "Epoch  5, CIFAR-10 Batch 3:  Loss:     1.3714 Accuracy: 0.434400\n",
      "Epoch  5, CIFAR-10 Batch 4:  Loss:     1.5623 Accuracy: 0.434200\n",
      "Epoch  5, CIFAR-10 Batch 5:  Loss:     1.5272 Accuracy: 0.432600\n",
      "Epoch  6, CIFAR-10 Batch 1:  Loss:     1.8535 Accuracy: 0.444600\n",
      "Epoch  6, CIFAR-10 Batch 2:  Loss:     1.3413 Accuracy: 0.443400\n",
      "Epoch  6, CIFAR-10 Batch 3:  Loss:     1.3150 Accuracy: 0.445400\n",
      "Epoch  6, CIFAR-10 Batch 4:  Loss:     1.5374 Accuracy: 0.448400\n",
      "Epoch  6, CIFAR-10 Batch 5:  Loss:     1.4769 Accuracy: 0.440600\n",
      "Epoch  7, CIFAR-10 Batch 1:  Loss:     1.7994 Accuracy: 0.447600\n",
      "Epoch  7, CIFAR-10 Batch 2:  Loss:     1.2855 Accuracy: 0.451000\n",
      "Epoch  7, CIFAR-10 Batch 3:  Loss:     1.2728 Accuracy: 0.451200\n",
      "Epoch  7, CIFAR-10 Batch 4:  Loss:     1.5155 Accuracy: 0.460000\n",
      "Epoch  7, CIFAR-10 Batch 5:  Loss:     1.4327 Accuracy: 0.450200\n",
      "Epoch  8, CIFAR-10 Batch 1:  Loss:     1.7642 Accuracy: 0.455000\n",
      "Epoch  8, CIFAR-10 Batch 2:  Loss:     1.2439 Accuracy: 0.453800\n",
      "Epoch  8, CIFAR-10 Batch 3:  Loss:     1.2411 Accuracy: 0.457600\n",
      "Epoch  8, CIFAR-10 Batch 4:  Loss:     1.4983 Accuracy: 0.471000\n",
      "Epoch  8, CIFAR-10 Batch 5:  Loss:     1.3905 Accuracy: 0.456600\n",
      "Epoch  9, CIFAR-10 Batch 1:  Loss:     1.7360 Accuracy: 0.466200\n",
      "Epoch  9, CIFAR-10 Batch 2:  Loss:     1.2086 Accuracy: 0.456600\n",
      "Epoch  9, CIFAR-10 Batch 3:  Loss:     1.2144 Accuracy: 0.466800\n",
      "Epoch  9, CIFAR-10 Batch 4:  Loss:     1.4749 Accuracy: 0.475200\n",
      "Epoch  9, CIFAR-10 Batch 5:  Loss:     1.3590 Accuracy: 0.461600\n",
      "Epoch 10, CIFAR-10 Batch 1:  Loss:     1.7132 Accuracy: 0.472400\n",
      "Epoch 10, CIFAR-10 Batch 2:  Loss:     1.1783 Accuracy: 0.462200\n",
      "Epoch 10, CIFAR-10 Batch 3:  Loss:     1.1938 Accuracy: 0.470000\n",
      "Epoch 10, CIFAR-10 Batch 4:  Loss:     1.4573 Accuracy: 0.482400\n",
      "Epoch 10, CIFAR-10 Batch 5:  Loss:     1.3381 Accuracy: 0.470200\n",
      "Epoch 11, CIFAR-10 Batch 1:  Loss:     1.6973 Accuracy: 0.477200\n",
      "Epoch 11, CIFAR-10 Batch 2:  Loss:     1.1506 Accuracy: 0.469800\n",
      "Epoch 11, CIFAR-10 Batch 3:  Loss:     1.1736 Accuracy: 0.472200\n",
      "Epoch 11, CIFAR-10 Batch 4:  Loss:     1.4375 Accuracy: 0.486400\n",
      "Epoch 11, CIFAR-10 Batch 5:  Loss:     1.3220 Accuracy: 0.474800\n",
      "Epoch 12, CIFAR-10 Batch 1:  Loss:     1.6798 Accuracy: 0.477200\n",
      "Epoch 12, CIFAR-10 Batch 2:  Loss:     1.1264 Accuracy: 0.475800\n",
      "Epoch 12, CIFAR-10 Batch 3:  Loss:     1.1549 Accuracy: 0.475400\n",
      "Epoch 12, CIFAR-10 Batch 4:  Loss:     1.4159 Accuracy: 0.488400\n",
      "Epoch 12, CIFAR-10 Batch 5:  Loss:     1.3094 Accuracy: 0.476000\n",
      "Epoch 13, CIFAR-10 Batch 1:  Loss:     1.6659 Accuracy: 0.480600\n",
      "Epoch 13, CIFAR-10 Batch 2:  Loss:     1.1040 Accuracy: 0.480000\n",
      "Epoch 13, CIFAR-10 Batch 3:  Loss:     1.1383 Accuracy: 0.480000\n",
      "Epoch 13, CIFAR-10 Batch 4:  Loss:     1.3930 Accuracy: 0.491800\n",
      "Epoch 13, CIFAR-10 Batch 5:  Loss:     1.2978 Accuracy: 0.480400\n",
      "Epoch 14, CIFAR-10 Batch 1:  Loss:     1.6515 Accuracy: 0.484600\n",
      "Epoch 14, CIFAR-10 Batch 2:  Loss:     1.0855 Accuracy: 0.484800\n",
      "Epoch 14, CIFAR-10 Batch 3:  Loss:     1.1210 Accuracy: 0.483000\n",
      "Epoch 14, CIFAR-10 Batch 4:  Loss:     1.3716 Accuracy: 0.493200\n",
      "Epoch 14, CIFAR-10 Batch 5:  Loss:     1.2892 Accuracy: 0.483400\n",
      "Epoch 15, CIFAR-10 Batch 1:  Loss:     1.6396 Accuracy: 0.488400\n",
      "Epoch 15, CIFAR-10 Batch 2:  Loss:     1.0705 Accuracy: 0.485000\n",
      "Epoch 15, CIFAR-10 Batch 3:  Loss:     1.1039 Accuracy: 0.487400\n",
      "Epoch 15, CIFAR-10 Batch 4:  Loss:     1.3537 Accuracy: 0.494600\n",
      "Epoch 15, CIFAR-10 Batch 5:  Loss:     1.2814 Accuracy: 0.486200\n",
      "Epoch 16, CIFAR-10 Batch 1:  Loss:     1.6267 Accuracy: 0.488400\n",
      "Epoch 16, CIFAR-10 Batch 2:  Loss:     1.0557 Accuracy: 0.487800\n",
      "Epoch 16, CIFAR-10 Batch 3:  Loss:     1.0899 Accuracy: 0.490200\n",
      "Epoch 16, CIFAR-10 Batch 4:  Loss:     1.3364 Accuracy: 0.497200\n",
      "Epoch 16, CIFAR-10 Batch 5:  Loss:     1.2749 Accuracy: 0.487400\n",
      "Epoch 17, CIFAR-10 Batch 1:  Loss:     1.6168 Accuracy: 0.490600\n",
      "Epoch 17, CIFAR-10 Batch 2:  Loss:     1.0453 Accuracy: 0.489000\n",
      "Epoch 17, CIFAR-10 Batch 3:  Loss:     1.0760 Accuracy: 0.492400\n",
      "Epoch 17, CIFAR-10 Batch 4:  Loss:     1.3193 Accuracy: 0.500200\n",
      "Epoch 17, CIFAR-10 Batch 5:  Loss:     1.2694 Accuracy: 0.492800\n",
      "Epoch 18, CIFAR-10 Batch 1:  Loss:     1.6073 Accuracy: 0.489400\n",
      "Epoch 18, CIFAR-10 Batch 2:  Loss:     1.0364 Accuracy: 0.490000\n",
      "Epoch 18, CIFAR-10 Batch 3:  Loss:     1.0634 Accuracy: 0.496200\n",
      "Epoch 18, CIFAR-10 Batch 4:  Loss:     1.3034 Accuracy: 0.501800\n",
      "Epoch 18, CIFAR-10 Batch 5:  Loss:     1.2650 Accuracy: 0.497000\n",
      "Epoch 19, CIFAR-10 Batch 1:  Loss:     1.6020 Accuracy: 0.495200\n",
      "Epoch 19, CIFAR-10 Batch 2:  Loss:     1.0284 Accuracy: 0.492600\n",
      "Epoch 19, CIFAR-10 Batch 3:  Loss:     1.0524 Accuracy: 0.500400\n",
      "Epoch 19, CIFAR-10 Batch 4:  Loss:     1.2888 Accuracy: 0.502000\n",
      "Epoch 19, CIFAR-10 Batch 5:  Loss:     1.2592 Accuracy: 0.499600\n",
      "Epoch 20, CIFAR-10 Batch 1:  Loss:     1.5915 Accuracy: 0.497400\n",
      "Epoch 20, CIFAR-10 Batch 2:  Loss:     1.0204 Accuracy: 0.494200\n",
      "Epoch 20, CIFAR-10 Batch 3:  Loss:     1.0412 Accuracy: 0.502400\n",
      "Epoch 20, CIFAR-10 Batch 4:  Loss:     1.2762 Accuracy: 0.504600\n",
      "Epoch 20, CIFAR-10 Batch 5:  Loss:     1.2516 Accuracy: 0.500400\n",
      "Epoch 21, CIFAR-10 Batch 1:  Loss:     1.5835 Accuracy: 0.505000\n",
      "Epoch 21, CIFAR-10 Batch 2:  Loss:     1.0111 Accuracy: 0.498600\n",
      "Epoch 21, CIFAR-10 Batch 3:  Loss:     1.0320 Accuracy: 0.505800\n",
      "Epoch 21, CIFAR-10 Batch 4:  Loss:     1.2635 Accuracy: 0.507800\n",
      "Epoch 21, CIFAR-10 Batch 5:  Loss:     1.2449 Accuracy: 0.503400\n",
      "Epoch 22, CIFAR-10 Batch 1:  Loss:     1.5779 Accuracy: 0.508200\n",
      "Epoch 22, CIFAR-10 Batch 2:  Loss:     1.0046 Accuracy: 0.503400\n",
      "Epoch 22, CIFAR-10 Batch 3:  Loss:     1.0235 Accuracy: 0.507000\n",
      "Epoch 22, CIFAR-10 Batch 4:  Loss:     1.2519 Accuracy: 0.507600\n",
      "Epoch 22, CIFAR-10 Batch 5:  Loss:     1.2376 Accuracy: 0.506200\n",
      "Epoch 23, CIFAR-10 Batch 1:  Loss:     1.5702 Accuracy: 0.511400\n",
      "Epoch 23, CIFAR-10 Batch 2:  Loss:     0.9981 Accuracy: 0.501600\n",
      "Epoch 23, CIFAR-10 Batch 3:  Loss:     1.0167 Accuracy: 0.509600\n",
      "Epoch 23, CIFAR-10 Batch 4:  Loss:     1.2422 Accuracy: 0.509000\n",
      "Epoch 23, CIFAR-10 Batch 5:  Loss:     1.2316 Accuracy: 0.505800\n",
      "Epoch 24, CIFAR-10 Batch 1:  Loss:     1.5633 Accuracy: 0.513600\n",
      "Epoch 24, CIFAR-10 Batch 2:  Loss:     0.9926 Accuracy: 0.503400\n",
      "Epoch 24, CIFAR-10 Batch 3:  Loss:     1.0094 Accuracy: 0.511600\n",
      "Epoch 24, CIFAR-10 Batch 4:  Loss:     1.2314 Accuracy: 0.509600\n",
      "Epoch 24, CIFAR-10 Batch 5:  Loss:     1.2258 Accuracy: 0.507400\n",
      "Epoch 25, CIFAR-10 Batch 1:  Loss:     1.5574 Accuracy: 0.516000\n",
      "Epoch 25, CIFAR-10 Batch 2:  Loss:     0.9874 Accuracy: 0.506600\n",
      "Epoch 25, CIFAR-10 Batch 3:  Loss:     1.0019 Accuracy: 0.514600\n",
      "Epoch 25, CIFAR-10 Batch 4:  Loss:     1.2213 Accuracy: 0.511600\n",
      "Epoch 25, CIFAR-10 Batch 5:  Loss:     1.2188 Accuracy: 0.508400\n",
      "Epoch 26, CIFAR-10 Batch 1:  Loss:     1.5506 Accuracy: 0.516000\n",
      "Epoch 26, CIFAR-10 Batch 2:  Loss:     0.9817 Accuracy: 0.508400\n",
      "Epoch 26, CIFAR-10 Batch 3:  Loss:     0.9949 Accuracy: 0.515000\n",
      "Epoch 26, CIFAR-10 Batch 4:  Loss:     1.2119 Accuracy: 0.514000\n",
      "Epoch 26, CIFAR-10 Batch 5:  Loss:     1.2120 Accuracy: 0.512200\n",
      "Epoch 27, CIFAR-10 Batch 1:  Loss:     1.5442 Accuracy: 0.516400\n",
      "Epoch 27, CIFAR-10 Batch 2:  Loss:     0.9765 Accuracy: 0.509800\n",
      "Epoch 27, CIFAR-10 Batch 3:  Loss:     0.9879 Accuracy: 0.516800\n",
      "Epoch 27, CIFAR-10 Batch 4:  Loss:     1.2036 Accuracy: 0.515600\n",
      "Epoch 27, CIFAR-10 Batch 5:  Loss:     1.2039 Accuracy: 0.513000\n",
      "Epoch 28, CIFAR-10 Batch 1:  Loss:     1.5389 Accuracy: 0.519400\n",
      "Epoch 28, CIFAR-10 Batch 2:  Loss:     0.9725 Accuracy: 0.511200\n",
      "Epoch 28, CIFAR-10 Batch 3:  Loss:     0.9807 Accuracy: 0.518800\n",
      "Epoch 28, CIFAR-10 Batch 4:  Loss:     1.1943 Accuracy: 0.519200\n",
      "Epoch 28, CIFAR-10 Batch 5:  Loss:     1.1975 Accuracy: 0.514200\n",
      "Epoch 29, CIFAR-10 Batch 1:  Loss:     1.5347 Accuracy: 0.521400\n",
      "Epoch 29, CIFAR-10 Batch 2:  Loss:     0.9662 Accuracy: 0.512800\n",
      "Epoch 29, CIFAR-10 Batch 3:  Loss:     0.9742 Accuracy: 0.520600\n",
      "Epoch 29, CIFAR-10 Batch 4:  Loss:     1.1872 Accuracy: 0.519600\n",
      "Epoch 29, CIFAR-10 Batch 5:  Loss:     1.1895 Accuracy: 0.516000\n",
      "Epoch 30, CIFAR-10 Batch 1:  Loss:     1.5297 Accuracy: 0.522200\n",
      "Epoch 30, CIFAR-10 Batch 2:  Loss:     0.9611 Accuracy: 0.514000\n",
      "Epoch 30, CIFAR-10 Batch 3:  Loss:     0.9691 Accuracy: 0.522800\n",
      "Epoch 30, CIFAR-10 Batch 4:  Loss:     1.1797 Accuracy: 0.520600\n",
      "Epoch 30, CIFAR-10 Batch 5:  Loss:     1.1823 Accuracy: 0.516800\n",
      "Epoch 31, CIFAR-10 Batch 1:  Loss:     1.5247 Accuracy: 0.523000\n",
      "Epoch 31, CIFAR-10 Batch 2:  Loss:     0.9554 Accuracy: 0.516000\n",
      "Epoch 31, CIFAR-10 Batch 3:  Loss:     0.9641 Accuracy: 0.523000\n",
      "Epoch 31, CIFAR-10 Batch 4:  Loss:     1.1716 Accuracy: 0.523000\n",
      "Epoch 31, CIFAR-10 Batch 5:  Loss:     1.1765 Accuracy: 0.517200\n",
      "Epoch 32, CIFAR-10 Batch 1:  Loss:     1.5203 Accuracy: 0.525000\n",
      "Epoch 32, CIFAR-10 Batch 2:  Loss:     0.9498 Accuracy: 0.517200\n",
      "Epoch 32, CIFAR-10 Batch 3:  Loss:     0.9590 Accuracy: 0.524000\n",
      "Epoch 32, CIFAR-10 Batch 4:  Loss:     1.1639 Accuracy: 0.524800\n",
      "Epoch 32, CIFAR-10 Batch 5:  Loss:     1.1700 Accuracy: 0.517800\n",
      "Epoch 33, CIFAR-10 Batch 1:  Loss:     1.5163 Accuracy: 0.523800\n",
      "Epoch 33, CIFAR-10 Batch 2:  Loss:     0.9450 Accuracy: 0.517600\n",
      "Epoch 33, CIFAR-10 Batch 3:  Loss:     0.9544 Accuracy: 0.526000\n",
      "Epoch 33, CIFAR-10 Batch 4:  Loss:     1.1566 Accuracy: 0.525200\n",
      "Epoch 33, CIFAR-10 Batch 5:  Loss:     1.1626 Accuracy: 0.519000\n",
      "Epoch 34, CIFAR-10 Batch 1:  Loss:     1.5132 Accuracy: 0.524600\n",
      "Epoch 34, CIFAR-10 Batch 2:  Loss:     0.9405 Accuracy: 0.518000\n",
      "Epoch 34, CIFAR-10 Batch 3:  Loss:     0.9484 Accuracy: 0.527000\n",
      "Epoch 34, CIFAR-10 Batch 4:  Loss:     1.1493 Accuracy: 0.526600\n",
      "Epoch 34, CIFAR-10 Batch 5:  Loss:     1.1567 Accuracy: 0.518800\n",
      "Epoch 35, CIFAR-10 Batch 1:  Loss:     1.5103 Accuracy: 0.526400\n",
      "Epoch 35, CIFAR-10 Batch 2:  Loss:     0.9356 Accuracy: 0.519200\n",
      "Epoch 35, CIFAR-10 Batch 3:  Loss:     0.9435 Accuracy: 0.531600\n",
      "Epoch 35, CIFAR-10 Batch 4:  Loss:     1.1421 Accuracy: 0.528000\n",
      "Epoch 35, CIFAR-10 Batch 5:  Loss:     1.1512 Accuracy: 0.522400\n",
      "Epoch 36, CIFAR-10 Batch 1:  Loss:     1.5075 Accuracy: 0.527200\n",
      "Epoch 36, CIFAR-10 Batch 2:  Loss:     0.9303 Accuracy: 0.520200\n",
      "Epoch 36, CIFAR-10 Batch 3:  Loss:     0.9373 Accuracy: 0.532600\n",
      "Epoch 36, CIFAR-10 Batch 4:  Loss:     1.1357 Accuracy: 0.530800\n",
      "Epoch 36, CIFAR-10 Batch 5:  Loss:     1.1453 Accuracy: 0.524000\n",
      "Epoch 37, CIFAR-10 Batch 1:  Loss:     1.5033 Accuracy: 0.527800\n",
      "Epoch 37, CIFAR-10 Batch 2:  Loss:     0.9255 Accuracy: 0.521800\n",
      "Epoch 37, CIFAR-10 Batch 3:  Loss:     0.9332 Accuracy: 0.533600\n",
      "Epoch 37, CIFAR-10 Batch 4:  Loss:     1.1299 Accuracy: 0.530600\n",
      "Epoch 37, CIFAR-10 Batch 5:  Loss:     1.1397 Accuracy: 0.525400\n",
      "Epoch 38, CIFAR-10 Batch 1:  Loss:     1.4989 Accuracy: 0.529800\n",
      "Epoch 38, CIFAR-10 Batch 2:  Loss:     0.9216 Accuracy: 0.523000\n",
      "Epoch 38, CIFAR-10 Batch 3:  Loss:     0.9294 Accuracy: 0.533600\n",
      "Epoch 38, CIFAR-10 Batch 4:  Loss:     1.1246 Accuracy: 0.532200\n",
      "Epoch 38, CIFAR-10 Batch 5:  Loss:     1.1333 Accuracy: 0.525200\n",
      "Epoch 39, CIFAR-10 Batch 1:  Loss:     1.4944 Accuracy: 0.530400\n",
      "Epoch 39, CIFAR-10 Batch 2:  Loss:     0.9175 Accuracy: 0.523200\n",
      "Epoch 39, CIFAR-10 Batch 3:  Loss:     0.9261 Accuracy: 0.533800\n",
      "Epoch 39, CIFAR-10 Batch 4:  Loss:     1.1188 Accuracy: 0.533400\n",
      "Epoch 39, CIFAR-10 Batch 5:  Loss:     1.1273 Accuracy: 0.526600\n",
      "Epoch 40, CIFAR-10 Batch 1:  Loss:     1.4913 Accuracy: 0.531200\n",
      "Epoch 40, CIFAR-10 Batch 2:  Loss:     0.9135 Accuracy: 0.523600\n",
      "Epoch 40, CIFAR-10 Batch 3:  Loss:     0.9224 Accuracy: 0.534800\n",
      "Epoch 40, CIFAR-10 Batch 4:  Loss:     1.1141 Accuracy: 0.533000\n",
      "Epoch 40, CIFAR-10 Batch 5:  Loss:     1.1222 Accuracy: 0.525200\n",
      "Epoch 41, CIFAR-10 Batch 1:  Loss:     1.4872 Accuracy: 0.533800\n",
      "Epoch 41, CIFAR-10 Batch 2:  Loss:     0.9102 Accuracy: 0.526000\n",
      "Epoch 41, CIFAR-10 Batch 3:  Loss:     0.9188 Accuracy: 0.535400\n",
      "Epoch 41, CIFAR-10 Batch 4:  Loss:     1.1092 Accuracy: 0.534400\n",
      "Epoch 41, CIFAR-10 Batch 5:  Loss:     1.1161 Accuracy: 0.526600\n",
      "Epoch 42, CIFAR-10 Batch 1:  Loss:     1.4824 Accuracy: 0.535200\n",
      "Epoch 42, CIFAR-10 Batch 2:  Loss:     0.9074 Accuracy: 0.526800\n",
      "Epoch 42, CIFAR-10 Batch 3:  Loss:     0.9143 Accuracy: 0.536600\n",
      "Epoch 42, CIFAR-10 Batch 4:  Loss:     1.1047 Accuracy: 0.533000\n",
      "Epoch 42, CIFAR-10 Batch 5:  Loss:     1.1114 Accuracy: 0.527600\n",
      "Epoch 43, CIFAR-10 Batch 1:  Loss:     1.4784 Accuracy: 0.537000\n",
      "Epoch 43, CIFAR-10 Batch 2:  Loss:     0.9045 Accuracy: 0.527200\n",
      "Epoch 43, CIFAR-10 Batch 3:  Loss:     0.9100 Accuracy: 0.538200\n",
      "Epoch 43, CIFAR-10 Batch 4:  Loss:     1.1002 Accuracy: 0.534600\n",
      "Epoch 43, CIFAR-10 Batch 5:  Loss:     1.1067 Accuracy: 0.527400\n",
      "Epoch 44, CIFAR-10 Batch 1:  Loss:     1.4733 Accuracy: 0.537800\n",
      "Epoch 44, CIFAR-10 Batch 2:  Loss:     0.9010 Accuracy: 0.527000\n",
      "Epoch 44, CIFAR-10 Batch 3:  Loss:     0.9067 Accuracy: 0.539200\n",
      "Epoch 44, CIFAR-10 Batch 4:  Loss:     1.0967 Accuracy: 0.535200\n",
      "Epoch 44, CIFAR-10 Batch 5:  Loss:     1.1015 Accuracy: 0.527800\n",
      "Epoch 45, CIFAR-10 Batch 1:  Loss:     1.4683 Accuracy: 0.537000\n",
      "Epoch 45, CIFAR-10 Batch 2:  Loss:     0.8980 Accuracy: 0.526800\n",
      "Epoch 45, CIFAR-10 Batch 3:  Loss:     0.9030 Accuracy: 0.539400\n",
      "Epoch 45, CIFAR-10 Batch 4:  Loss:     1.0932 Accuracy: 0.536600\n",
      "Epoch 45, CIFAR-10 Batch 5:  Loss:     1.0963 Accuracy: 0.527000\n",
      "Epoch 46, CIFAR-10 Batch 1:  Loss:     1.4627 Accuracy: 0.537600\n",
      "Epoch 46, CIFAR-10 Batch 2:  Loss:     0.8948 Accuracy: 0.527400\n",
      "Epoch 46, CIFAR-10 Batch 3:  Loss:     0.8991 Accuracy: 0.540400\n",
      "Epoch 46, CIFAR-10 Batch 4:  Loss:     1.0898 Accuracy: 0.537200\n",
      "Epoch 46, CIFAR-10 Batch 5:  Loss:     1.0921 Accuracy: 0.527000\n",
      "Epoch 47, CIFAR-10 Batch 1:  Loss:     1.4571 Accuracy: 0.538000\n",
      "Epoch 47, CIFAR-10 Batch 2:  Loss:     0.8917 Accuracy: 0.528000\n",
      "Epoch 47, CIFAR-10 Batch 3:  Loss:     0.8961 Accuracy: 0.541000\n",
      "Epoch 47, CIFAR-10 Batch 4:  Loss:     1.0864 Accuracy: 0.537200\n",
      "Epoch 47, CIFAR-10 Batch 5:  Loss:     1.0877 Accuracy: 0.528400\n",
      "Epoch 48, CIFAR-10 Batch 1:  Loss:     1.4530 Accuracy: 0.537800\n",
      "Epoch 48, CIFAR-10 Batch 2:  Loss:     0.8883 Accuracy: 0.529400\n",
      "Epoch 48, CIFAR-10 Batch 3:  Loss:     0.8929 Accuracy: 0.542200\n",
      "Epoch 48, CIFAR-10 Batch 4:  Loss:     1.0838 Accuracy: 0.537200\n",
      "Epoch 48, CIFAR-10 Batch 5:  Loss:     1.0825 Accuracy: 0.529200\n",
      "Epoch 49, CIFAR-10 Batch 1:  Loss:     1.4473 Accuracy: 0.538200\n",
      "Epoch 49, CIFAR-10 Batch 2:  Loss:     0.8847 Accuracy: 0.529800\n",
      "Epoch 49, CIFAR-10 Batch 3:  Loss:     0.8897 Accuracy: 0.540200\n",
      "Epoch 49, CIFAR-10 Batch 4:  Loss:     1.0809 Accuracy: 0.537000\n",
      "Epoch 49, CIFAR-10 Batch 5:  Loss:     1.0776 Accuracy: 0.530400\n",
      "Epoch 50, CIFAR-10 Batch 1:  Loss:     1.4418 Accuracy: 0.539000\n",
      "Epoch 50, CIFAR-10 Batch 2:  Loss:     0.8819 Accuracy: 0.530400\n",
      "Epoch 50, CIFAR-10 Batch 3:  Loss:     0.8869 Accuracy: 0.540800\n",
      "Epoch 50, CIFAR-10 Batch 4:  Loss:     1.0781 Accuracy: 0.538000\n",
      "Epoch 50, CIFAR-10 Batch 5:  Loss:     1.0735 Accuracy: 0.529200\n",
      "Epoch 51, CIFAR-10 Batch 1:  Loss:     1.4367 Accuracy: 0.537600\n",
      "Epoch 51, CIFAR-10 Batch 2:  Loss:     0.8792 Accuracy: 0.530800\n",
      "Epoch 51, CIFAR-10 Batch 3:  Loss:     0.8850 Accuracy: 0.543000\n",
      "Epoch 51, CIFAR-10 Batch 4:  Loss:     1.0761 Accuracy: 0.537800\n",
      "Epoch 51, CIFAR-10 Batch 5:  Loss:     1.0690 Accuracy: 0.531800\n",
      "Epoch 52, CIFAR-10 Batch 1:  Loss:     1.4322 Accuracy: 0.537800\n",
      "Epoch 52, CIFAR-10 Batch 2:  Loss:     0.8769 Accuracy: 0.530600\n",
      "Epoch 52, CIFAR-10 Batch 3:  Loss:     0.8830 Accuracy: 0.542200\n",
      "Epoch 52, CIFAR-10 Batch 4:  Loss:     1.0740 Accuracy: 0.539200\n",
      "Epoch 52, CIFAR-10 Batch 5:  Loss:     1.0644 Accuracy: 0.532000\n",
      "Epoch 53, CIFAR-10 Batch 1:  Loss:     1.4277 Accuracy: 0.538600\n",
      "Epoch 53, CIFAR-10 Batch 2:  Loss:     0.8747 Accuracy: 0.532200\n",
      "Epoch 53, CIFAR-10 Batch 3:  Loss:     0.8807 Accuracy: 0.543400\n",
      "Epoch 53, CIFAR-10 Batch 4:  Loss:     1.0720 Accuracy: 0.540000\n",
      "Epoch 53, CIFAR-10 Batch 5:  Loss:     1.0606 Accuracy: 0.533200\n",
      "Epoch 54, CIFAR-10 Batch 1:  Loss:     1.4232 Accuracy: 0.538000\n",
      "Epoch 54, CIFAR-10 Batch 2:  Loss:     0.8727 Accuracy: 0.533600\n",
      "Epoch 54, CIFAR-10 Batch 3:  Loss:     0.8792 Accuracy: 0.543800\n",
      "Epoch 54, CIFAR-10 Batch 4:  Loss:     1.0705 Accuracy: 0.540000\n",
      "Epoch 54, CIFAR-10 Batch 5:  Loss:     1.0563 Accuracy: 0.533400\n",
      "Epoch 55, CIFAR-10 Batch 1:  Loss:     1.4165 Accuracy: 0.538200\n",
      "Epoch 55, CIFAR-10 Batch 2:  Loss:     0.8691 Accuracy: 0.534400\n",
      "Epoch 55, CIFAR-10 Batch 3:  Loss:     0.8773 Accuracy: 0.544600\n",
      "Epoch 55, CIFAR-10 Batch 4:  Loss:     1.0696 Accuracy: 0.542000\n",
      "Epoch 55, CIFAR-10 Batch 5:  Loss:     1.0526 Accuracy: 0.534800\n",
      "Epoch 56, CIFAR-10 Batch 1:  Loss:     1.4113 Accuracy: 0.538800\n",
      "Epoch 56, CIFAR-10 Batch 2:  Loss:     0.8669 Accuracy: 0.535000\n",
      "Epoch 56, CIFAR-10 Batch 3:  Loss:     0.8758 Accuracy: 0.545000\n",
      "Epoch 56, CIFAR-10 Batch 4:  Loss:     1.0687 Accuracy: 0.543000\n",
      "Epoch 56, CIFAR-10 Batch 5:  Loss:     1.0478 Accuracy: 0.534400\n",
      "Epoch 57, CIFAR-10 Batch 1:  Loss:     1.4058 Accuracy: 0.539600\n",
      "Epoch 57, CIFAR-10 Batch 2:  Loss:     0.8641 Accuracy: 0.535200\n",
      "Epoch 57, CIFAR-10 Batch 3:  Loss:     0.8744 Accuracy: 0.546000\n",
      "Epoch 57, CIFAR-10 Batch 4:  Loss:     1.0673 Accuracy: 0.542800\n",
      "Epoch 57, CIFAR-10 Batch 5:  Loss:     1.0441 Accuracy: 0.535000\n",
      "Epoch 58, CIFAR-10 Batch 1:  Loss:     1.4010 Accuracy: 0.540200\n",
      "Epoch 58, CIFAR-10 Batch 2:  Loss:     0.8618 Accuracy: 0.534200\n",
      "Epoch 58, CIFAR-10 Batch 3:  Loss:     0.8726 Accuracy: 0.546800\n",
      "Epoch 58, CIFAR-10 Batch 4:  Loss:     1.0662 Accuracy: 0.543400\n",
      "Epoch 58, CIFAR-10 Batch 5:  Loss:     1.0400 Accuracy: 0.534000\n",
      "Epoch 59, CIFAR-10 Batch 1:  Loss:     1.3956 Accuracy: 0.539800\n",
      "Epoch 59, CIFAR-10 Batch 2:  Loss:     0.8601 Accuracy: 0.534800\n",
      "Epoch 59, CIFAR-10 Batch 3:  Loss:     0.8704 Accuracy: 0.547200\n",
      "Epoch 59, CIFAR-10 Batch 4:  Loss:     1.0649 Accuracy: 0.544000\n",
      "Epoch 59, CIFAR-10 Batch 5:  Loss:     1.0361 Accuracy: 0.533400\n",
      "Epoch 60, CIFAR-10 Batch 1:  Loss:     1.3921 Accuracy: 0.541600\n",
      "Epoch 60, CIFAR-10 Batch 2:  Loss:     0.8579 Accuracy: 0.535800\n",
      "Epoch 60, CIFAR-10 Batch 3:  Loss:     0.8689 Accuracy: 0.547600\n",
      "Epoch 60, CIFAR-10 Batch 4:  Loss:     1.0634 Accuracy: 0.545400\n",
      "Epoch 60, CIFAR-10 Batch 5:  Loss:     1.0316 Accuracy: 0.532800\n",
      "Epoch 61, CIFAR-10 Batch 1:  Loss:     1.3868 Accuracy: 0.542800\n",
      "Epoch 61, CIFAR-10 Batch 2:  Loss:     0.8560 Accuracy: 0.537400\n",
      "Epoch 61, CIFAR-10 Batch 3:  Loss:     0.8673 Accuracy: 0.546600\n",
      "Epoch 61, CIFAR-10 Batch 4:  Loss:     1.0618 Accuracy: 0.544800\n",
      "Epoch 61, CIFAR-10 Batch 5:  Loss:     1.0272 Accuracy: 0.533600\n",
      "Epoch 62, CIFAR-10 Batch 1:  Loss:     1.3830 Accuracy: 0.541200\n",
      "Epoch 62, CIFAR-10 Batch 2:  Loss:     0.8537 Accuracy: 0.537600\n",
      "Epoch 62, CIFAR-10 Batch 3:  Loss:     0.8657 Accuracy: 0.546600\n",
      "Epoch 62, CIFAR-10 Batch 4:  Loss:     1.0605 Accuracy: 0.546200\n",
      "Epoch 62, CIFAR-10 Batch 5:  Loss:     1.0231 Accuracy: 0.534200\n",
      "Epoch 63, CIFAR-10 Batch 1:  Loss:     1.3784 Accuracy: 0.541200\n",
      "Epoch 63, CIFAR-10 Batch 2:  Loss:     0.8514 Accuracy: 0.538000\n",
      "Epoch 63, CIFAR-10 Batch 3:  Loss:     0.8645 Accuracy: 0.546000\n",
      "Epoch 63, CIFAR-10 Batch 4:  Loss:     1.0594 Accuracy: 0.547800\n",
      "Epoch 63, CIFAR-10 Batch 5:  Loss:     1.0196 Accuracy: 0.535000\n",
      "Epoch 64, CIFAR-10 Batch 1:  Loss:     1.3749 Accuracy: 0.541400\n",
      "Epoch 64, CIFAR-10 Batch 2:  Loss:     0.8488 Accuracy: 0.538200\n",
      "Epoch 64, CIFAR-10 Batch 3:  Loss:     0.8636 Accuracy: 0.547600\n",
      "Epoch 64, CIFAR-10 Batch 4:  Loss:     1.0579 Accuracy: 0.548000\n",
      "Epoch 64, CIFAR-10 Batch 5:  Loss:     1.0169 Accuracy: 0.535800\n",
      "Epoch 65, CIFAR-10 Batch 1:  Loss:     1.3712 Accuracy: 0.543600\n",
      "Epoch 65, CIFAR-10 Batch 2:  Loss:     0.8467 Accuracy: 0.537400\n",
      "Epoch 65, CIFAR-10 Batch 3:  Loss:     0.8625 Accuracy: 0.547200\n",
      "Epoch 65, CIFAR-10 Batch 4:  Loss:     1.0568 Accuracy: 0.548800\n",
      "Epoch 65, CIFAR-10 Batch 5:  Loss:     1.0129 Accuracy: 0.535000\n",
      "Epoch 66, CIFAR-10 Batch 1:  Loss:     1.3680 Accuracy: 0.545000\n",
      "Epoch 66, CIFAR-10 Batch 2:  Loss:     0.8445 Accuracy: 0.538000\n",
      "Epoch 66, CIFAR-10 Batch 3:  Loss:     0.8617 Accuracy: 0.547400\n",
      "Epoch 66, CIFAR-10 Batch 4:  Loss:     1.0557 Accuracy: 0.550400\n",
      "Epoch 66, CIFAR-10 Batch 5:  Loss:     1.0089 Accuracy: 0.535000\n",
      "Epoch 67, CIFAR-10 Batch 1:  Loss:     1.3649 Accuracy: 0.545000\n",
      "Epoch 67, CIFAR-10 Batch 2:  Loss:     0.8422 Accuracy: 0.538000\n",
      "Epoch 67, CIFAR-10 Batch 3:  Loss:     0.8606 Accuracy: 0.548200\n",
      "Epoch 67, CIFAR-10 Batch 4:  Loss:     1.0549 Accuracy: 0.550800\n",
      "Epoch 67, CIFAR-10 Batch 5:  Loss:     1.0057 Accuracy: 0.535600\n",
      "Epoch 68, CIFAR-10 Batch 1:  Loss:     1.3621 Accuracy: 0.545400\n",
      "Epoch 68, CIFAR-10 Batch 2:  Loss:     0.8397 Accuracy: 0.539000\n",
      "Epoch 68, CIFAR-10 Batch 3:  Loss:     0.8593 Accuracy: 0.548800\n",
      "Epoch 68, CIFAR-10 Batch 4:  Loss:     1.0537 Accuracy: 0.549800\n",
      "Epoch 68, CIFAR-10 Batch 5:  Loss:     1.0022 Accuracy: 0.536200\n",
      "Epoch 69, CIFAR-10 Batch 1:  Loss:     1.3583 Accuracy: 0.546400\n",
      "Epoch 69, CIFAR-10 Batch 2:  Loss:     0.8374 Accuracy: 0.540000\n",
      "Epoch 69, CIFAR-10 Batch 3:  Loss:     0.8583 Accuracy: 0.549400\n",
      "Epoch 69, CIFAR-10 Batch 4:  Loss:     1.0529 Accuracy: 0.549400\n",
      "Epoch 69, CIFAR-10 Batch 5:  Loss:     0.9999 Accuracy: 0.536200\n",
      "Epoch 70, CIFAR-10 Batch 1:  Loss:     1.3546 Accuracy: 0.546400\n",
      "Epoch 70, CIFAR-10 Batch 2:  Loss:     0.8354 Accuracy: 0.540400\n",
      "Epoch 70, CIFAR-10 Batch 3:  Loss:     0.8577 Accuracy: 0.549000\n",
      "Epoch 70, CIFAR-10 Batch 4:  Loss:     1.0522 Accuracy: 0.550600\n",
      "Epoch 70, CIFAR-10 Batch 5:  Loss:     0.9965 Accuracy: 0.536600\n",
      "Epoch 71, CIFAR-10 Batch 1:  Loss:     1.3517 Accuracy: 0.547600\n",
      "Epoch 71, CIFAR-10 Batch 2:  Loss:     0.8334 Accuracy: 0.542200\n",
      "Epoch 71, CIFAR-10 Batch 3:  Loss:     0.8563 Accuracy: 0.548400\n",
      "Epoch 71, CIFAR-10 Batch 4:  Loss:     1.0515 Accuracy: 0.549600\n",
      "Epoch 71, CIFAR-10 Batch 5:  Loss:     0.9933 Accuracy: 0.537600\n",
      "Epoch 72, CIFAR-10 Batch 1:  Loss:     1.3486 Accuracy: 0.546800\n",
      "Epoch 72, CIFAR-10 Batch 2:  Loss:     0.8311 Accuracy: 0.542600\n",
      "Epoch 72, CIFAR-10 Batch 3:  Loss:     0.8557 Accuracy: 0.548400\n",
      "Epoch 72, CIFAR-10 Batch 4:  Loss:     1.0505 Accuracy: 0.549800\n",
      "Epoch 72, CIFAR-10 Batch 5:  Loss:     0.9904 Accuracy: 0.538400\n",
      "Epoch 73, CIFAR-10 Batch 1:  Loss:     1.3463 Accuracy: 0.547600\n",
      "Epoch 73, CIFAR-10 Batch 2:  Loss:     0.8289 Accuracy: 0.544200\n",
      "Epoch 73, CIFAR-10 Batch 3:  Loss:     0.8546 Accuracy: 0.548800\n",
      "Epoch 73, CIFAR-10 Batch 4:  Loss:     1.0498 Accuracy: 0.550000\n",
      "Epoch 73, CIFAR-10 Batch 5:  Loss:     0.9879 Accuracy: 0.538600\n",
      "Epoch 74, CIFAR-10 Batch 1:  Loss:     1.3447 Accuracy: 0.547200\n",
      "Epoch 74, CIFAR-10 Batch 2:  Loss:     0.8268 Accuracy: 0.543800\n",
      "Epoch 74, CIFAR-10 Batch 3:  Loss:     0.8534 Accuracy: 0.549800\n",
      "Epoch 74, CIFAR-10 Batch 4:  Loss:     1.0492 Accuracy: 0.549800\n",
      "Epoch 74, CIFAR-10 Batch 5:  Loss:     0.9845 Accuracy: 0.538000\n",
      "Epoch 75, CIFAR-10 Batch 1:  Loss:     1.3415 Accuracy: 0.547800\n",
      "Epoch 75, CIFAR-10 Batch 2:  Loss:     0.8248 Accuracy: 0.544000\n",
      "Epoch 75, CIFAR-10 Batch 3:  Loss:     0.8524 Accuracy: 0.549800\n",
      "Epoch 75, CIFAR-10 Batch 4:  Loss:     1.0487 Accuracy: 0.550000\n",
      "Epoch 75, CIFAR-10 Batch 5:  Loss:     0.9818 Accuracy: 0.538200\n",
      "Epoch 76, CIFAR-10 Batch 1:  Loss:     1.3377 Accuracy: 0.547800\n",
      "Epoch 76, CIFAR-10 Batch 2:  Loss:     0.8224 Accuracy: 0.544800\n",
      "Epoch 76, CIFAR-10 Batch 3:  Loss:     0.8518 Accuracy: 0.549600\n",
      "Epoch 76, CIFAR-10 Batch 4:  Loss:     1.0477 Accuracy: 0.549400\n",
      "Epoch 76, CIFAR-10 Batch 5:  Loss:     0.9789 Accuracy: 0.539200\n",
      "Epoch 77, CIFAR-10 Batch 1:  Loss:     1.3356 Accuracy: 0.548000\n",
      "Epoch 77, CIFAR-10 Batch 2:  Loss:     0.8209 Accuracy: 0.545400\n",
      "Epoch 77, CIFAR-10 Batch 3:  Loss:     0.8515 Accuracy: 0.550200\n",
      "Epoch 77, CIFAR-10 Batch 4:  Loss:     1.0463 Accuracy: 0.549200\n",
      "Epoch 77, CIFAR-10 Batch 5:  Loss:     0.9763 Accuracy: 0.539800\n",
      "Epoch 78, CIFAR-10 Batch 1:  Loss:     1.3328 Accuracy: 0.547600\n",
      "Epoch 78, CIFAR-10 Batch 2:  Loss:     0.8188 Accuracy: 0.544800\n",
      "Epoch 78, CIFAR-10 Batch 3:  Loss:     0.8500 Accuracy: 0.550600\n",
      "Epoch 78, CIFAR-10 Batch 4:  Loss:     1.0450 Accuracy: 0.550600\n",
      "Epoch 78, CIFAR-10 Batch 5:  Loss:     0.9742 Accuracy: 0.539200\n",
      "Epoch 79, CIFAR-10 Batch 1:  Loss:     1.3305 Accuracy: 0.548400\n",
      "Epoch 79, CIFAR-10 Batch 2:  Loss:     0.8168 Accuracy: 0.545400\n",
      "Epoch 79, CIFAR-10 Batch 3:  Loss:     0.8499 Accuracy: 0.551400\n",
      "Epoch 79, CIFAR-10 Batch 4:  Loss:     1.0447 Accuracy: 0.550200\n",
      "Epoch 79, CIFAR-10 Batch 5:  Loss:     0.9721 Accuracy: 0.539800\n",
      "Epoch 80, CIFAR-10 Batch 1:  Loss:     1.3279 Accuracy: 0.548200\n",
      "Epoch 80, CIFAR-10 Batch 2:  Loss:     0.8150 Accuracy: 0.544600\n",
      "Epoch 80, CIFAR-10 Batch 3:  Loss:     0.8491 Accuracy: 0.551400\n",
      "Epoch 80, CIFAR-10 Batch 4:  Loss:     1.0438 Accuracy: 0.550800\n",
      "Epoch 80, CIFAR-10 Batch 5:  Loss:     0.9693 Accuracy: 0.540200\n",
      "Epoch 81, CIFAR-10 Batch 1:  Loss:     1.3256 Accuracy: 0.547600\n",
      "Epoch 81, CIFAR-10 Batch 2:  Loss:     0.8137 Accuracy: 0.545000\n",
      "Epoch 81, CIFAR-10 Batch 3:  Loss:     0.8494 Accuracy: 0.551000\n",
      "Epoch 81, CIFAR-10 Batch 4:  Loss:     1.0430 Accuracy: 0.552200\n",
      "Epoch 81, CIFAR-10 Batch 5:  Loss:     0.9668 Accuracy: 0.540600\n",
      "Epoch 82, CIFAR-10 Batch 1:  Loss:     1.3228 Accuracy: 0.548200\n",
      "Epoch 82, CIFAR-10 Batch 2:  Loss:     0.8118 Accuracy: 0.544800\n",
      "Epoch 82, CIFAR-10 Batch 3:  Loss:     0.8482 Accuracy: 0.551000\n",
      "Epoch 82, CIFAR-10 Batch 4:  Loss:     1.0423 Accuracy: 0.552400\n",
      "Epoch 82, CIFAR-10 Batch 5:  Loss:     0.9647 Accuracy: 0.541600\n",
      "Epoch 83, CIFAR-10 Batch 1:  Loss:     1.3208 Accuracy: 0.549000\n",
      "Epoch 83, CIFAR-10 Batch 2:  Loss:     0.8103 Accuracy: 0.545400\n",
      "Epoch 83, CIFAR-10 Batch 3:  Loss:     0.8476 Accuracy: 0.551000\n",
      "Epoch 83, CIFAR-10 Batch 4:  Loss:     1.0417 Accuracy: 0.552200\n",
      "Epoch 83, CIFAR-10 Batch 5:  Loss:     0.9625 Accuracy: 0.540600\n",
      "Epoch 84, CIFAR-10 Batch 1:  Loss:     1.3181 Accuracy: 0.547000\n",
      "Epoch 84, CIFAR-10 Batch 2:  Loss:     0.8088 Accuracy: 0.545800\n",
      "Epoch 84, CIFAR-10 Batch 3:  Loss:     0.8473 Accuracy: 0.550600\n",
      "Epoch 84, CIFAR-10 Batch 4:  Loss:     1.0417 Accuracy: 0.553600\n",
      "Epoch 84, CIFAR-10 Batch 5:  Loss:     0.9603 Accuracy: 0.542600\n",
      "Epoch 85, CIFAR-10 Batch 1:  Loss:     1.3165 Accuracy: 0.546600\n",
      "Epoch 85, CIFAR-10 Batch 2:  Loss:     0.8068 Accuracy: 0.545200\n",
      "Epoch 85, CIFAR-10 Batch 3:  Loss:     0.8461 Accuracy: 0.550000\n",
      "Epoch 85, CIFAR-10 Batch 4:  Loss:     1.0413 Accuracy: 0.552800\n",
      "Epoch 85, CIFAR-10 Batch 5:  Loss:     0.9582 Accuracy: 0.543600\n",
      "Epoch 86, CIFAR-10 Batch 1:  Loss:     1.3142 Accuracy: 0.546000\n",
      "Epoch 86, CIFAR-10 Batch 2:  Loss:     0.8052 Accuracy: 0.545600\n",
      "Epoch 86, CIFAR-10 Batch 3:  Loss:     0.8451 Accuracy: 0.550800\n",
      "Epoch 86, CIFAR-10 Batch 4:  Loss:     1.0408 Accuracy: 0.552800\n",
      "Epoch 86, CIFAR-10 Batch 5:  Loss:     0.9563 Accuracy: 0.543400\n",
      "Epoch 87, CIFAR-10 Batch 1:  Loss:     1.3118 Accuracy: 0.546400\n",
      "Epoch 87, CIFAR-10 Batch 2:  Loss:     0.8037 Accuracy: 0.546600\n",
      "Epoch 87, CIFAR-10 Batch 3:  Loss:     0.8448 Accuracy: 0.551000\n",
      "Epoch 87, CIFAR-10 Batch 4:  Loss:     1.0406 Accuracy: 0.552600\n",
      "Epoch 87, CIFAR-10 Batch 5:  Loss:     0.9542 Accuracy: 0.543200\n",
      "Epoch 88, CIFAR-10 Batch 1:  Loss:     1.3090 Accuracy: 0.546600\n",
      "Epoch 88, CIFAR-10 Batch 2:  Loss:     0.8018 Accuracy: 0.545400\n",
      "Epoch 88, CIFAR-10 Batch 3:  Loss:     0.8445 Accuracy: 0.551000\n",
      "Epoch 88, CIFAR-10 Batch 4:  Loss:     1.0398 Accuracy: 0.553200\n",
      "Epoch 88, CIFAR-10 Batch 5:  Loss:     0.9525 Accuracy: 0.543800\n",
      "Epoch 89, CIFAR-10 Batch 1:  Loss:     1.3063 Accuracy: 0.547400\n",
      "Epoch 89, CIFAR-10 Batch 2:  Loss:     0.8006 Accuracy: 0.546800\n",
      "Epoch 89, CIFAR-10 Batch 3:  Loss:     0.8443 Accuracy: 0.552200\n",
      "Epoch 89, CIFAR-10 Batch 4:  Loss:     1.0398 Accuracy: 0.553400\n",
      "Epoch 89, CIFAR-10 Batch 5:  Loss:     0.9504 Accuracy: 0.544000\n",
      "Epoch 90, CIFAR-10 Batch 1:  Loss:     1.3052 Accuracy: 0.547600\n",
      "Epoch 90, CIFAR-10 Batch 2:  Loss:     0.7985 Accuracy: 0.546600\n",
      "Epoch 90, CIFAR-10 Batch 3:  Loss:     0.8438 Accuracy: 0.552600\n",
      "Epoch 90, CIFAR-10 Batch 4:  Loss:     1.0400 Accuracy: 0.553200\n",
      "Epoch 90, CIFAR-10 Batch 5:  Loss:     0.9485 Accuracy: 0.544600\n",
      "Epoch 91, CIFAR-10 Batch 1:  Loss:     1.3028 Accuracy: 0.548000\n",
      "Epoch 91, CIFAR-10 Batch 2:  Loss:     0.7969 Accuracy: 0.545200\n",
      "Epoch 91, CIFAR-10 Batch 3:  Loss:     0.8436 Accuracy: 0.552600\n",
      "Epoch 91, CIFAR-10 Batch 4:  Loss:     1.0402 Accuracy: 0.552800\n",
      "Epoch 91, CIFAR-10 Batch 5:  Loss:     0.9463 Accuracy: 0.544400\n",
      "Epoch 92, CIFAR-10 Batch 1:  Loss:     1.3012 Accuracy: 0.548600\n",
      "Epoch 92, CIFAR-10 Batch 2:  Loss:     0.7954 Accuracy: 0.545400\n",
      "Epoch 92, CIFAR-10 Batch 3:  Loss:     0.8432 Accuracy: 0.551800\n",
      "Epoch 92, CIFAR-10 Batch 4:  Loss:     1.0400 Accuracy: 0.553000\n",
      "Epoch 92, CIFAR-10 Batch 5:  Loss:     0.9444 Accuracy: 0.545000\n",
      "Epoch 93, CIFAR-10 Batch 1:  Loss:     1.2993 Accuracy: 0.548600\n",
      "Epoch 93, CIFAR-10 Batch 2:  Loss:     0.7939 Accuracy: 0.545800\n",
      "Epoch 93, CIFAR-10 Batch 3:  Loss:     0.8432 Accuracy: 0.552200\n",
      "Epoch 93, CIFAR-10 Batch 4:  Loss:     1.0401 Accuracy: 0.553600\n",
      "Epoch 93, CIFAR-10 Batch 5:  Loss:     0.9420 Accuracy: 0.545800\n",
      "Epoch 94, CIFAR-10 Batch 1:  Loss:     1.2981 Accuracy: 0.548200\n",
      "Epoch 94, CIFAR-10 Batch 2:  Loss:     0.7918 Accuracy: 0.546400\n",
      "Epoch 94, CIFAR-10 Batch 3:  Loss:     0.8434 Accuracy: 0.552800\n",
      "Epoch 94, CIFAR-10 Batch 4:  Loss:     1.0399 Accuracy: 0.553200\n",
      "Epoch 94, CIFAR-10 Batch 5:  Loss:     0.9404 Accuracy: 0.545400\n",
      "Epoch 95, CIFAR-10 Batch 1:  Loss:     1.2958 Accuracy: 0.548800\n",
      "Epoch 95, CIFAR-10 Batch 2:  Loss:     0.7904 Accuracy: 0.546200\n",
      "Epoch 95, CIFAR-10 Batch 3:  Loss:     0.8429 Accuracy: 0.552600\n",
      "Epoch 95, CIFAR-10 Batch 4:  Loss:     1.0395 Accuracy: 0.553400\n",
      "Epoch 95, CIFAR-10 Batch 5:  Loss:     0.9389 Accuracy: 0.546800\n",
      "Epoch 96, CIFAR-10 Batch 1:  Loss:     1.2944 Accuracy: 0.548400\n",
      "Epoch 96, CIFAR-10 Batch 2:  Loss:     0.7893 Accuracy: 0.546200\n",
      "Epoch 96, CIFAR-10 Batch 3:  Loss:     0.8425 Accuracy: 0.552800\n",
      "Epoch 96, CIFAR-10 Batch 4:  Loss:     1.0396 Accuracy: 0.554000\n",
      "Epoch 96, CIFAR-10 Batch 5:  Loss:     0.9372 Accuracy: 0.547000\n",
      "Epoch 97, CIFAR-10 Batch 1:  Loss:     1.2927 Accuracy: 0.548000\n",
      "Epoch 97, CIFAR-10 Batch 2:  Loss:     0.7880 Accuracy: 0.547000\n",
      "Epoch 97, CIFAR-10 Batch 3:  Loss:     0.8422 Accuracy: 0.554200\n",
      "Epoch 97, CIFAR-10 Batch 4:  Loss:     1.0396 Accuracy: 0.554000\n",
      "Epoch 97, CIFAR-10 Batch 5:  Loss:     0.9355 Accuracy: 0.547800\n",
      "Epoch 98, CIFAR-10 Batch 1:  Loss:     1.2911 Accuracy: 0.548800\n",
      "Epoch 98, CIFAR-10 Batch 2:  Loss:     0.7865 Accuracy: 0.547400\n",
      "Epoch 98, CIFAR-10 Batch 3:  Loss:     0.8422 Accuracy: 0.553800\n",
      "Epoch 98, CIFAR-10 Batch 4:  Loss:     1.0398 Accuracy: 0.553400\n",
      "Epoch 98, CIFAR-10 Batch 5:  Loss:     0.9336 Accuracy: 0.548000\n",
      "Epoch 99, CIFAR-10 Batch 1:  Loss:     1.2895 Accuracy: 0.548800\n",
      "Epoch 99, CIFAR-10 Batch 2:  Loss:     0.7851 Accuracy: 0.547000\n",
      "Epoch 99, CIFAR-10 Batch 3:  Loss:     0.8419 Accuracy: 0.554600\n",
      "Epoch 99, CIFAR-10 Batch 4:  Loss:     1.0395 Accuracy: 0.553600\n",
      "Epoch 99, CIFAR-10 Batch 5:  Loss:     0.9321 Accuracy: 0.548400\n",
      "Epoch 100, CIFAR-10 Batch 1:  Loss:     1.2874 Accuracy: 0.549000\n",
      "Epoch 100, CIFAR-10 Batch 2:  Loss:     0.7840 Accuracy: 0.547200\n",
      "Epoch 100, CIFAR-10 Batch 3:  Loss:     0.8413 Accuracy: 0.554200\n",
      "Epoch 100, CIFAR-10 Batch 4:  Loss:     1.0396 Accuracy: 0.553600\n",
      "Epoch 100, CIFAR-10 Batch 5:  Loss:     0.9303 Accuracy: 0.548400\n"
     ]
    }
   ],
   "source": [
    "\"\"\"\n",
    "DON'T MODIFY ANYTHING IN THIS CELL\n",
    "\"\"\"\n",
    "save_model_path = './image_classification'\n",
    "\n",
    "print('Training...')\n",
    "with tf.Session() as sess:\n",
    "    # Initializing the variables\n",
    "    sess.run(tf.global_variables_initializer())\n",
    "    \n",
    "    # Training cycle\n",
    "    for epoch in range(epochs):\n",
    "        # Loop over all batches\n",
    "        n_batches = 5\n",
    "        for batch_i in range(1, n_batches + 1):\n",
    "            for batch_features, batch_labels in helper.load_preprocess_training_batch(batch_i, batch_size):\n",
    "                train_neural_network(sess, optimizer, keep_probability, batch_features, batch_labels)\n",
    "            print('Epoch {:>2}, CIFAR-10 Batch {}:  '.format(epoch + 1, batch_i), end='')\n",
    "            print_stats(sess, batch_features, batch_labels, cost, accuracy)\n",
    "            \n",
    "    # Save Model\n",
    "    saver = tf.train.Saver()\n",
    "    save_path = saver.save(sess, save_model_path)"
   ]
  },
  {
   "cell_type": "markdown",
   "metadata": {
    "deletable": true,
    "editable": true
   },
   "source": [
    "# Checkpoint\n",
    "The model has been saved to disk.\n",
    "## Test Model\n",
    "Test your model against the test dataset.  This will be your final accuracy. You should have an accuracy greater than 50%. If you don't, keep tweaking the model architecture and parameters."
   ]
  },
  {
   "cell_type": "code",
   "execution_count": 26,
   "metadata": {
    "collapsed": false,
    "deletable": true,
    "editable": true
   },
   "outputs": [
    {
     "name": "stdout",
     "output_type": "stream",
     "text": [
      "Testing Accuracy: 0.5505859375\n",
      "\n"
     ]
    },
    {
     "data": {
      "image/png": "[encoded data removed]",
      "text/plain": [
       "<matplotlib.figure.Figure at 0x7fe4b8019b70>"
      ]
     },
     "metadata": {
      "image/png": {
       "height": 319,
       "width": 355
      }
     },
     "output_type": "display_data"
    }
   ],
   "source": [
    "\"\"\"\n",
    "DON'T MODIFY ANYTHING IN THIS CELL\n",
    "\"\"\"\n",
    "%matplotlib inline\n",
    "%config InlineBackend.figure_format = 'retina'\n",
    "\n",
    "import tensorflow as tf\n",
    "import pickle\n",
    "import helper\n",
    "import random\n",
    "\n",
    "# Set batch size if not already set\n",
    "try:\n",
    "    if batch_size:\n",
    "        pass\n",
    "except NameError:\n",
    "    batch_size = 64\n",
    "\n",
    "save_model_path = './image_classification'\n",
    "n_samples = 4\n",
    "top_n_predictions = 3\n",
    "\n",
    "def test_model():\n",
    "    \"\"\"\n",
    "    Test the saved model against the test dataset\n",
    "    \"\"\"\n",
    "\n",
    "    test_features, test_labels = pickle.load(open('preprocess_training.p', mode='rb'))\n",
    "    loaded_graph = tf.Graph()\n",
    "\n",
    "    with tf.Session(graph=loaded_graph) as sess:\n",
    "        # Load model\n",
    "        loader = tf.train.import_meta_graph(save_model_path + '.meta')\n",
    "        loader.restore(sess, save_model_path)\n",
    "\n",
    "        # Get Tensors from loaded model\n",
    "        loaded_x = loaded_graph.get_tensor_by_name('x:0')\n",
    "        loaded_y = loaded_graph.get_tensor_by_name('y:0')\n",
    "        loaded_keep_prob = loaded_graph.get_tensor_by_name('keep_prob:0')\n",
    "        loaded_logits = loaded_graph.get_tensor_by_name('logits:0')\n",
    "        loaded_acc = loaded_graph.get_tensor_by_name('accuracy:0')\n",
    "        \n",
    "        # Get accuracy in batches for memory limitations\n",
    "        test_batch_acc_total = 0\n",
    "        test_batch_count = 0\n",
    "        \n",
    "        for train_feature_batch, train_label_batch in helper.batch_features_labels(test_features, test_labels, batch_size):\n",
    "            test_batch_acc_total += sess.run(\n",
    "                loaded_acc,\n",
    "                feed_dict={loaded_x: train_feature_batch, loaded_y: train_label_batch, loaded_keep_prob: 1.0})\n",
    "            test_batch_count += 1\n",
    "\n",
    "        print('Testing Accuracy: {}\\n'.format(test_batch_acc_total/test_batch_count))\n",
    "\n",
    "        # Print Random Samples\n",
    "        random_test_features, random_test_labels = tuple(zip(*random.sample(list(zip(test_features, test_labels)), n_samples)))\n",
    "        random_test_predictions = sess.run(\n",
    "            tf.nn.top_k(tf.nn.softmax(loaded_logits), top_n_predictions),\n",
    "            feed_dict={loaded_x: random_test_features, loaded_y: random_test_labels, loaded_keep_prob: 1.0})\n",
    "        helper.display_image_predictions(random_test_features, random_test_labels, random_test_predictions)\n",
    "\n",
    "\n",
    "test_model()"
   ]
  },
  {
   "cell_type": "markdown",
   "metadata": {
    "deletable": true,
    "editable": true
   },
   "source": [
    "## Why 50-70% Accuracy?\n",
    "You might be wondering why you can't get an accuracy any higher. First things first, 50% isn't bad for a simple CNN.  Pure guessing would get you 10% accuracy. However, you might notice people are getting scores [well above 70%](http://rodrigob.github.io/are_we_there_yet/build/classification_datasets_results.html#43494641522d3130).  That's because we haven't taught you all there is to know about neural networks. We still need to cover a few more techniques.\n",
    "## Submitting This Project\n",
    "When submitting this project, make sure to run all the cells before saving the notebook.  Save the notebook file as \"dlnd_image_classification.ipynb\" and save it as a HTML file under \"File\" -> \"Download as\".  Include the \"helper.py\" and \"problem_unittests.py\" files in your submission."
   ]
  }
 ],
 "metadata": {
  "anaconda-cloud": {},
  "kernelspec": {
   "display_name": "Python 3",
   "language": "python",
   "name": "python3"
  },
  "language_info": {
   "codemirror_mode": {
    "name": "ipython",
    "version": 3
   },
   "file_extension": ".py",
   "mimetype": "text/x-python",
   "name": "python",
   "nbconvert_exporter": "python",
   "pygments_lexer": "ipython3",
   "version": "3.5.2"
  },
  "widgets": {
   "state": {},
   "version": "1.1.2"
  }
 },
 "nbformat": 4,
 "nbformat_minor": 0
}
