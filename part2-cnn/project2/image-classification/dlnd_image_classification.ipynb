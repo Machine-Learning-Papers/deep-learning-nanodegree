{
 "cells": [
  {
   "cell_type": "markdown",
   "metadata": {
    "collapsed": true,
    "deletable": true,
    "editable": true
   },
   "source": [
    "# Image Classification\n",
    "In this project, you'll classify images from the [CIFAR-10 dataset](https://www.cs.toronto.edu/~kriz/cifar.html).  The dataset consists of airplanes, dogs, cats, and other objects. You'll preprocess the images, then train a convolutional neural network on all the samples. The images need to be normalized and the labels need to be one-hot encoded.  You'll get to apply what you learned and build a convolutional, max pooling, dropout, and fully connected layers.  At the end, you'll get to see your neural network's predictions on the sample images.\n",
    "## Get the Data\n",
    "Run the following cell to download the [CIFAR-10 dataset for python](https://www.cs.toronto.edu/~kriz/cifar-10-python.tar.gz)."
   ]
  },
  {
   "cell_type": "code",
   "execution_count": 1,
   "metadata": {
    "collapsed": false,
    "deletable": true,
    "editable": true
   },
   "outputs": [
    {
     "name": "stderr",
     "output_type": "stream",
     "text": [
      "CIFAR-10 Dataset: 171MB [00:58, 2.90MB/s]                              \n"
     ]
    },
    {
     "name": "stdout",
     "output_type": "stream",
     "text": [
      "All files found!\n"
     ]
    }
   ],
   "source": [
    "\"\"\"\n",
    "DON'T MODIFY ANYTHING IN THIS CELL THAT IS BELOW THIS LINE\n",
    "\"\"\"\n",
    "from urllib.request import urlretrieve\n",
    "from os.path import isfile, isdir\n",
    "from tqdm import tqdm\n",
    "import problem_unittests as tests\n",
    "import tarfile\n",
    "\n",
    "cifar10_dataset_folder_path = 'cifar-10-batches-py'\n",
    "\n",
    "class DLProgress(tqdm):\n",
    "    last_block = 0\n",
    "\n",
    "    def hook(self, block_num=1, block_size=1, total_size=None):\n",
    "        self.total = total_size\n",
    "        self.update((block_num - self.last_block) * block_size)\n",
    "        self.last_block = block_num\n",
    "\n",
    "if not isfile('cifar-10-python.tar.gz'):\n",
    "    with DLProgress(unit='B', unit_scale=True, miniters=1, desc='CIFAR-10 Dataset') as pbar:\n",
    "        urlretrieve(\n",
    "            'https://www.cs.toronto.edu/~kriz/cifar-10-python.tar.gz',\n",
    "            'cifar-10-python.tar.gz',\n",
    "            pbar.hook)\n",
    "\n",
    "if not isdir(cifar10_dataset_folder_path):\n",
    "    with tarfile.open('cifar-10-python.tar.gz') as tar:\n",
    "        tar.extractall()\n",
    "        tar.close()\n",
    "\n",
    "\n",
    "tests.test_folder_path(cifar10_dataset_folder_path)"
   ]
  },
  {
   "cell_type": "markdown",
   "metadata": {
    "deletable": true,
    "editable": true
   },
   "source": [
    "## Explore the Data\n",
    "The dataset is broken into batches to prevent your machine from running out of memory.  The CIFAR-10 dataset consists of 5 batches, named `data_batch_1`, `data_batch_2`, etc.. Each batch contains the labels and images that are one of the following:\n",
    "* airplane\n",
    "* automobile\n",
    "* bird\n",
    "* cat\n",
    "* deer\n",
    "* dog\n",
    "* frog\n",
    "* horse\n",
    "* ship\n",
    "* truck\n",
    "\n",
    "Understanding a dataset is part of making predictions on the data.  Play around with the code cell below by changing the `batch_id` and `sample_id`. The `batch_id` is the id for a batch (1-5). The `sample_id` is the id for a image and label pair in the batch.\n",
    "\n",
    "Ask yourself \"What are all possible labels?\", \"What is the range of values for the image data?\", \"Are the labels in order or random?\".  Answers to questions like these will help you preprocess the data and end up with better predictions."
   ]
  },
  {
   "cell_type": "code",
   "execution_count": 2,
   "metadata": {
    "collapsed": false,
    "deletable": true,
    "editable": true
   },
   "outputs": [
    {
     "name": "stdout",
     "output_type": "stream",
     "text": [
      "\n",
      "Stats of batch 1:\n",
      "Samples: 10000\n",
      "Label Counts: {0: 1005, 1: 974, 2: 1032, 3: 1016, 4: 999, 5: 937, 6: 1030, 7: 1001, 8: 1025, 9: 981}\n",
      "First 20 Labels: [6, 9, 9, 4, 1, 1, 2, 7, 8, 3, 4, 7, 7, 2, 9, 9, 9, 3, 2, 6]\n",
      "\n",
      "Example of Image 5:\n",
      "Image - Min Value: 0 Max Value: 252\n",
      "Image - Shape: (32, 32, 3)\n",
      "Label - Label Id: 1 Name: automobile\n"
     ]
    },
    {
     "data": {
      "image/png": "[encoded data removed]",
      "text/plain": [
       "<matplotlib.figure.Figure at 0x7fd141805d30>"
      ]
     },
     "metadata": {
      "image/png": {
       "height": 250,
       "width": 253
      }
     },
     "output_type": "display_data"
    }
   ],
   "source": [
    "%matplotlib inline\n",
    "%config InlineBackend.figure_format = 'retina'\n",
    "\n",
    "import helper\n",
    "import numpy as np\n",
    "\n",
    "# Explore the dataset\n",
    "batch_id = 1\n",
    "sample_id = 5\n",
    "helper.display_stats(cifar10_dataset_folder_path, batch_id, sample_id)"
   ]
  },
  {
   "cell_type": "markdown",
   "metadata": {
    "deletable": true,
    "editable": true
   },
   "source": [
    "## Implement Preprocess Functions\n",
    "### Normalize\n",
    "In the cell below, implement the `normalize` function to take in image data, `x`, and return it as a normalized Numpy array. The values should be in the range of 0 to 1, inclusive.  The return object should be the same shape as `x`."
   ]
  },
  {
   "cell_type": "code",
   "execution_count": 3,
   "metadata": {
    "collapsed": false,
    "deletable": true,
    "editable": true
   },
   "outputs": [
    {
     "name": "stdout",
     "output_type": "stream",
     "text": [
      "Tests Passed\n"
     ]
    }
   ],
   "source": [
    "def normalize(x):\n",
    "    \"\"\"\n",
    "    Normalize a list of sample image data in the range of 0 to 1\n",
    "    : x: List of image data.  The image shape is (32, 32, 3)\n",
    "    : return: Numpy array of normalize data\n",
    "    \"\"\"\n",
    "    # TODO: Implement Function\n",
    "    return x / 255\n",
    "\n",
    "\n",
    "\"\"\"\n",
    "DON'T MODIFY ANYTHING IN THIS CELL THAT IS BELOW THIS LINE\n",
    "\"\"\"\n",
    "tests.test_normalize(normalize)"
   ]
  },
  {
   "cell_type": "markdown",
   "metadata": {
    "deletable": true,
    "editable": true
   },
   "source": [
    "### One-hot encode\n",
    "Just like the previous code cell, you'll be implementing a function for preprocessing.  This time, you'll implement the `one_hot_encode` function. The input, `x`, are a list of labels.  Implement the function to return the list of labels as One-Hot encoded Numpy array.  The possible values for labels are 0 to 9. The one-hot encoding function should return the same encoding for each value between each call to `one_hot_encode`.  Make sure to save the map of encodings outside the function.\n",
    "\n",
    "Hint: Don't reinvent the wheel."
   ]
  },
  {
   "cell_type": "code",
   "execution_count": 4,
   "metadata": {
    "collapsed": false,
    "deletable": true,
    "editable": true
   },
   "outputs": [
    {
     "name": "stdout",
     "output_type": "stream",
     "text": [
      "Tests Passed\n"
     ]
    }
   ],
   "source": [
    "def one_hot_encode(x):\n",
    "    \"\"\"\n",
    "    One hot encode a list of sample labels. Return a one-hot encoded vector for each label.\n",
    "    : x: List of sample Labels\n",
    "    : return: Numpy array of one-hot encoded labels\n",
    "    \"\"\"\n",
    "    # TODO: Implement Function\n",
    "    one_hot = np.zeros((len(x), 10))\n",
    "    for i in range(len(x)):\n",
    "        one_hot[i][x[i]] = 1\n",
    "    return one_hot\n",
    "\n",
    "\n",
    "\"\"\"\n",
    "DON'T MODIFY ANYTHING IN THIS CELL THAT IS BELOW THIS LINE\n",
    "\"\"\"\n",
    "tests.test_one_hot_encode(one_hot_encode)"
   ]
  },
  {
   "cell_type": "markdown",
   "metadata": {
    "deletable": true,
    "editable": true
   },
   "source": [
    "### Randomize Data\n",
    "As you saw from exploring the data above, the order of the samples are randomized.  It doesn't hurt to randomize it again, but you don't need to for this dataset."
   ]
  },
  {
   "cell_type": "markdown",
   "metadata": {
    "deletable": true,
    "editable": true
   },
   "source": [
    "## Preprocess all the data and save it\n",
    "Running the code cell below will preprocess all the CIFAR-10 data and save it to file. The code below also uses 10% of the training data for validation."
   ]
  },
  {
   "cell_type": "code",
   "execution_count": 5,
   "metadata": {
    "collapsed": false,
    "deletable": true,
    "editable": true
   },
   "outputs": [],
   "source": [
    "\"\"\"\n",
    "DON'T MODIFY ANYTHING IN THIS CELL\n",
    "\"\"\"\n",
    "# Preprocess Training, Validation, and Testing Data\n",
    "helper.preprocess_and_save_data(cifar10_dataset_folder_path, normalize, one_hot_encode)"
   ]
  },
  {
   "cell_type": "markdown",
   "metadata": {
    "deletable": true,
    "editable": true
   },
   "source": [
    "# Check Point\n",
    "This is your first checkpoint.  If you ever decide to come back to this notebook or have to restart the notebook, you can start from here.  The preprocessed data has been saved to disk."
   ]
  },
  {
   "cell_type": "code",
   "execution_count": 6,
   "metadata": {
    "collapsed": false,
    "deletable": true,
    "editable": true
   },
   "outputs": [],
   "source": [
    "\"\"\"\n",
    "DON'T MODIFY ANYTHING IN THIS CELL\n",
    "\"\"\"\n",
    "import pickle\n",
    "import problem_unittests as tests\n",
    "import helper\n",
    "\n",
    "# Load the Preprocessed Validation data\n",
    "valid_features, valid_labels = pickle.load(open('preprocess_validation.p', mode='rb'))"
   ]
  },
  {
   "cell_type": "markdown",
   "metadata": {
    "deletable": true,
    "editable": true
   },
   "source": [
    "## Build the network\n",
    "For the neural network, you'll build each layer into a function.  Most of the code you've seen has been outside of functions. To test your code more thoroughly, we require that you put each layer in a function.  This allows us to give you better feedback and test for simple mistakes using our unittests before you submit your project.\n",
    "\n",
    "If you're finding it hard to dedicate enough time for this course a week, we've provided a small shortcut to this part of the project. In the next couple of problems, you'll have the option to use [TensorFlow Layers](https://www.tensorflow.org/api_docs/python/tf/layers) or [TensorFlow Layers (contrib)](https://www.tensorflow.org/api_guides/python/contrib.layers) to build each layer, except \"Convolutional & Max Pooling\" layer.  TF Layers is similar to Keras's and TFLearn's abstraction to layers, so it's easy to pickup.\n",
    "\n",
    "If you would like to get the most of this course, try to solve all the problems without TF Layers.  Let's begin!\n",
    "### Input\n",
    "The neural network needs to read the image data, one-hot encoded labels, and dropout keep probability. Implement the following functions\n",
    "* Implement `neural_net_image_input`\n",
    " * Return a [TF Placeholder](https://www.tensorflow.org/api_docs/python/tf/placeholder)\n",
    " * Set the shape using `image_shape` with batch size set to `None`.\n",
    " * Name the TensorFlow placeholder \"x\" using the TensorFlow `name` parameter in the [TF Placeholder](https://www.tensorflow.org/api_docs/python/tf/placeholder).\n",
    "* Implement `neural_net_label_input`\n",
    " * Return a [TF Placeholder](https://www.tensorflow.org/api_docs/python/tf/placeholder)\n",
    " * Set the shape using `n_classes` with batch size set to `None`.\n",
    " * Name the TensorFlow placeholder \"y\" using the TensorFlow `name` parameter in the [TF Placeholder](https://www.tensorflow.org/api_docs/python/tf/placeholder).\n",
    "* Implement `neural_net_keep_prob_input`\n",
    " * Return a [TF Placeholder](https://www.tensorflow.org/api_docs/python/tf/placeholder) for dropout keep probability.\n",
    " * Name the TensorFlow placeholder \"keep_prob\" using the TensorFlow `name` parameter in the [TF Placeholder](https://www.tensorflow.org/api_docs/python/tf/placeholder).\n",
    "\n",
    "These names will be used at the end of the project to load your saved model.\n",
    "\n",
    "Note: `None` for shapes in TensorFlow allow for a dynamic size."
   ]
  },
  {
   "cell_type": "code",
   "execution_count": 7,
   "metadata": {
    "collapsed": false,
    "deletable": true,
    "editable": true
   },
   "outputs": [
    {
     "name": "stdout",
     "output_type": "stream",
     "text": [
      "Image Input Tests Passed.\n",
      "Label Input Tests Passed.\n",
      "Keep Prob Tests Passed.\n"
     ]
    }
   ],
   "source": [
    "import tensorflow as tf\n",
    "\n",
    "def neural_net_image_input(image_shape):\n",
    "    \"\"\"\n",
    "    Return a Tensor for a batch of image input\n",
    "    : image_shape: Shape of the images\n",
    "    : return: Tensor for image input.\n",
    "    \"\"\"\n",
    "    # TODO: Implement Function\n",
    "    return tf.placeholder(tf.float32,\n",
    "                          shape = [None, image_shape[0], image_shape[1], image_shape[2]],\n",
    "                          name = 'x')\n",
    "\n",
    "\n",
    "def neural_net_label_input(n_classes):\n",
    "    \"\"\"\n",
    "    Return a Tensor for a batch of label input\n",
    "    : n_classes: Number of classes\n",
    "    : return: Tensor for label input.\n",
    "    \"\"\"\n",
    "    # TODO: Implement Function\n",
    "    return tf.placeholder(tf.float32,\n",
    "                          shape = [None, n_classes],\n",
    "                          name = 'y')\n",
    "\n",
    "\n",
    "def neural_net_keep_prob_input():\n",
    "    \"\"\"\n",
    "    Return a Tensor for keep probability\n",
    "    : return: Tensor for keep probability.\n",
    "    \"\"\"\n",
    "    # TODO: Implement Function\n",
    "    return tf.placeholder(tf.float32, name = 'keep_prob')\n",
    "\n",
    "\n",
    "\"\"\"\n",
    "DON'T MODIFY ANYTHING IN THIS CELL THAT IS BELOW THIS LINE\n",
    "\"\"\"\n",
    "tf.reset_default_graph()\n",
    "tests.test_nn_image_inputs(neural_net_image_input)\n",
    "tests.test_nn_label_inputs(neural_net_label_input)\n",
    "tests.test_nn_keep_prob_inputs(neural_net_keep_prob_input)"
   ]
  },
  {
   "cell_type": "markdown",
   "metadata": {
    "deletable": true,
    "editable": true
   },
   "source": [
    "### Convolution and Max Pooling Layer\n",
    "Convolution layers have a lot of success with images. For this code cell, you should implement the function `conv2d_maxpool` to apply convolution then max pooling:\n",
    "* Create the weight and bias using `conv_ksize`, `conv_num_outputs` and the shape of `x_tensor`.\n",
    "* Apply a convolution to `x_tensor` using weight and `conv_strides`.\n",
    " * We recommend you use same padding, but you're welcome to use any padding.\n",
    "* Add bias\n",
    "* Add a nonlinear activation to the convolution.\n",
    "* Apply Max Pooling using `pool_ksize` and `pool_strides`.\n",
    " * We recommend you use same padding, but you're welcome to use any padding.\n",
    "\n",
    "Note: You **can't** use [TensorFlow Layers](https://www.tensorflow.org/api_docs/python/tf/layers) or [TensorFlow Layers (contrib)](https://www.tensorflow.org/api_guides/python/contrib.layers) for this layer.  You're free to use any TensorFlow package for all the other layers."
   ]
  },
  {
   "cell_type": "code",
   "execution_count": 8,
   "metadata": {
    "collapsed": false,
    "deletable": true,
    "editable": true
   },
   "outputs": [
    {
     "name": "stdout",
     "output_type": "stream",
     "text": [
      "Tests Passed\n"
     ]
    }
   ],
   "source": [
    "def conv2d_maxpool(x_tensor, conv_num_outputs, conv_ksize, conv_strides, pool_ksize, pool_strides):\n",
    "    \"\"\"\n",
    "    Apply convolution then max pooling to x_tensor\n",
    "    :param x_tensor: TensorFlow Tensor\n",
    "    :param conv_num_outputs: Number of outputs for the convolutional layer\n",
    "    :param conv_strides: Stride 2-D Tuple for convolution\n",
    "    :param pool_ksize: kernal size 2-D Tuple for pool\n",
    "    :param pool_strides: Stride 2-D Tuple for pool\n",
    "    : return: A tensor that represents convolution and max pooling of x_tensor\n",
    "    \"\"\"\n",
    "    # TODO: Implement Function\n",
    "    \n",
    "    # Input/Image\n",
    "    input = x_tensor\n",
    "    \n",
    "    # Weight and bias\n",
    "    weight = tf.Variable(tf.truncated_normal(\n",
    "        [conv_ksize[0], conv_ksize[1], x_tensor.get_shape().as_list()[-1], conv_num_outputs], stddev=0.1))\n",
    "    bias = tf.Variable(tf.zeros(conv_num_outputs))\n",
    "    \n",
    "    # Apply Convolution\n",
    "    conv_layer = tf.nn.conv2d(input, weight, strides=[1, conv_strides[0], conv_strides[1], 1], padding='SAME')\n",
    "    # Add bias\n",
    "    conv_layer = tf.nn.bias_add(conv_layer, bias)\n",
    "    # Apply activation function\n",
    "    conv_layer = tf.nn.relu(conv_layer)\n",
    "    \n",
    "    # Apply maxpooling\n",
    "    conv_layer = tf.nn.max_pool(\n",
    "        conv_layer,\n",
    "        ksize=[1, pool_ksize[0], pool_ksize[1], 1],\n",
    "        strides=[1, pool_strides[0], pool_strides[1], 1],\n",
    "        padding='SAME')\n",
    "    return conv_layer \n",
    "\n",
    "\n",
    "\"\"\"\n",
    "DON'T MODIFY ANYTHING IN THIS CELL THAT IS BELOW THIS LINE\n",
    "\"\"\"\n",
    "tests.test_con_pool(conv2d_maxpool)"
   ]
  },
  {
   "cell_type": "markdown",
   "metadata": {
    "deletable": true,
    "editable": true
   },
   "source": [
    "### Flatten Layer\n",
    "Implement the `flatten` function to change the dimension of `x_tensor` from a 4-D tensor to a 2-D tensor.  The output should be the shape (*Batch Size*, *Flattened Image Size*). You can use [TensorFlow Layers](https://www.tensorflow.org/api_docs/python/tf/layers) or [TensorFlow Layers (contrib)](https://www.tensorflow.org/api_guides/python/contrib.layers) for this layer."
   ]
  },
  {
   "cell_type": "code",
   "execution_count": 9,
   "metadata": {
    "collapsed": false,
    "deletable": true,
    "editable": true
   },
   "outputs": [
    {
     "name": "stdout",
     "output_type": "stream",
     "text": [
      "Tests Passed\n"
     ]
    }
   ],
   "source": [
    "def flatten(x_tensor):\n",
    "    \"\"\"\n",
    "    Flatten x_tensor to (Batch Size, Flattened Image Size)\n",
    "    : x_tensor: A tensor of size (Batch Size, ...), where ... are the image dimensions.\n",
    "    : return: A tensor of size (Batch Size, Flattened Image Size).\n",
    "    \"\"\"\n",
    "    # TODO: Implement Function\n",
    "    batch_size = x_tensor.get_shape().as_list()[0]# i tried as_list()[] \n",
    "    width = x_tensor.get_shape().as_list()[1]\n",
    "    height = x_tensor.get_shape().as_list()[2]\n",
    "    depth = x_tensor.get_shape().as_list()[3]\n",
    "\n",
    "    image_flat_size = width * height * depth\n",
    "\n",
    "    return tf.contrib.layers.flatten(x_tensor, [batch_size, image_flat_size])\n",
    "\n",
    "\n",
    "\"\"\"\n",
    "DON'T MODIFY ANYTHING IN THIS CELL THAT IS BELOW THIS LINE\n",
    "\"\"\"\n",
    "tests.test_flatten(flatten)"
   ]
  },
  {
   "cell_type": "markdown",
   "metadata": {
    "deletable": true,
    "editable": true
   },
   "source": [
    "### Fully-Connected Layer\n",
    "Implement the `fully_conn` function to apply a fully connected layer to `x_tensor` with the shape (*Batch Size*, *num_outputs*). You can use [TensorFlow Layers](https://www.tensorflow.org/api_docs/python/tf/layers) or [TensorFlow Layers (contrib)](https://www.tensorflow.org/api_guides/python/contrib.layers) for this layer."
   ]
  },
  {
   "cell_type": "code",
   "execution_count": 15,
   "metadata": {
    "collapsed": false,
    "deletable": true,
    "editable": true
   },
   "outputs": [
    {
     "name": "stdout",
     "output_type": "stream",
     "text": [
      "Tests Passed\n"
     ]
    }
   ],
   "source": [
    "def fully_conn(x_tensor, num_outputs):\n",
    "    \"\"\"\n",
    "    Apply a fully connected layer to x_tensor using weight and bias\n",
    "    : x_tensor: A 2-D tensor where the first dimension is batch size.\n",
    "    : num_outputs: The number of output that the new tensor should be.\n",
    "    : return: A 2-D tensor where the second dimension is num_outputs.\n",
    "    \"\"\"\n",
    "    # TODO: Implement Function\n",
    "    return tf.contrib.layers.fully_connected(x_tensor, num_outputs, activation_fn=None)\n",
    "\n",
    "\n",
    "\"\"\"\n",
    "DON'T MODIFY ANYTHING IN THIS CELL THAT IS BELOW THIS LINE\n",
    "\"\"\"\n",
    "tests.test_fully_conn(fully_conn)"
   ]
  },
  {
   "cell_type": "markdown",
   "metadata": {
    "deletable": true,
    "editable": true
   },
   "source": [
    "### Output Layer\n",
    "Implement the `output` function to apply a fully connected layer to `x_tensor` with the shape (*Batch Size*, *num_outputs*). You can use [TensorFlow Layers](https://www.tensorflow.org/api_docs/python/tf/layers) or [TensorFlow Layers (contrib)](https://www.tensorflow.org/api_guides/python/contrib.layers) for this layer.\n",
    "\n",
    "Note: Activation, softmax, or cross entropy shouldn't be applied to this."
   ]
  },
  {
   "cell_type": "code",
   "execution_count": 16,
   "metadata": {
    "collapsed": false,
    "deletable": true,
    "editable": true
   },
   "outputs": [
    {
     "name": "stdout",
     "output_type": "stream",
     "text": [
      "Tests Passed\n"
     ]
    }
   ],
   "source": [
    "def output(x_tensor, num_outputs):\n",
    "    \"\"\"\n",
    "    Apply a output layer to x_tensor using weight and bias\n",
    "    : x_tensor: A 2-D tensor where the first dimension is batch size.\n",
    "    : num_outputs: The number of output that the new tensor should be.\n",
    "    : return: A 2-D tensor where the second dimension is num_outputs.\n",
    "    \"\"\"\n",
    "    # TODO: Implement Function\n",
    "    weights = tf.Variable(tf.truncated_normal([x_tensor.get_shape().as_list()[1], num_outputs])) \n",
    "    mul = tf.matmul(x_tensor, weights, name='mul')\n",
    "    bias = tf.Variable(tf.zeros(num_outputs))\n",
    "    \n",
    "    return tf.add(mul, bias)\n",
    "\n",
    "#     y = tf.add(mul, bias)\n",
    "#     fc = tf.contrib.layers.fully_connected(y, num_outputs)\n",
    "#     return fc\n",
    "\n",
    "\"\"\"\n",
    "DON'T MODIFY ANYTHING IN THIS CELL THAT IS BELOW THIS LINE\n",
    "\"\"\"\n",
    "tests.test_output(output)"
   ]
  },
  {
   "cell_type": "markdown",
   "metadata": {
    "deletable": true,
    "editable": true
   },
   "source": [
    "### Create Convolutional Model\n",
    "Implement the function `conv_net` to create a convolutional neural network model. The function takes in a batch of images, `x`, and outputs logits.  Use the layers you created above to create this model:\n",
    "\n",
    "* Apply 1, 2, or 3 Convolution and Max Pool layers\n",
    "* Apply a Flatten Layer\n",
    "* Apply 1, 2, or 3 Fully Connected Layers\n",
    "* Apply an Output Layer\n",
    "* Return the output\n",
    "* Apply [TensorFlow's Dropout](https://www.tensorflow.org/api_docs/python/tf/nn/dropout) to one or more layers in the model using `keep_prob`. "
   ]
  },
  {
   "cell_type": "code",
   "execution_count": 17,
   "metadata": {
    "collapsed": false,
    "deletable": true,
    "editable": true
   },
   "outputs": [
    {
     "name": "stdout",
     "output_type": "stream",
     "text": [
      "Neural Network Built!\n"
     ]
    }
   ],
   "source": [
    "def conv_net(x, keep_prob):\n",
    "    \"\"\"\n",
    "    Create a convolutional neural network model\n",
    "    : x: Placeholder tensor that holds image data.\n",
    "    : keep_prob: Placeholder tensor that hold dropout keep probability.\n",
    "    : return: Tensor that represents logits\n",
    "    \"\"\"\n",
    "    # TODO: Apply 1, 2, or 3 Convolution and Max Pool layers\n",
    "    #    Play around with different number of outputs, kernel size and stride\n",
    "    # Function Definition from Above:\n",
    "    #    conv2d_maxpool(x_tensor, conv_num_outputs, conv_ksize, conv_strides, pool_ksize, pool_strides)\n",
    "    conv_num_outputs = 10\n",
    "    conv_ksize = [2, 2]\n",
    "    conv_strides = [2, 2]\n",
    "    pool_ksize = [2, 2]\n",
    "    pool_strides = [2, 2]\n",
    "    conv_layer = conv2d_maxpool(x, conv_num_outputs, conv_ksize, conv_strides, pool_ksize, pool_strides)\n",
    "\n",
    "    # TODO: Apply a Flatten Layer\n",
    "    # Function Definition from Above:\n",
    "    #   flatten(x_tensor)\n",
    "    conv_layer = flatten(conv_layer)\n",
    "    \n",
    "\n",
    "    # TODO: Apply 1, 2, or 3 Fully Connected Layers\n",
    "    #    Play around with different number of outputs\n",
    "    # Function Definition from Above:\n",
    "    #   fully_conn(x_tensor, num_outputs)\n",
    "    num_outputs = 10\n",
    "    conv_layer = fully_conn(conv_layer, num_outputs)\n",
    "    \n",
    "    # TODO: Apply an Output Layer\n",
    "    #    Set this to the number of classes\n",
    "    # Function Definition from Above:\n",
    "    #   output(x_tensor, num_outputs)\n",
    "    num_classes = 10\n",
    "    conv_layer = output(conv_layer, num_classes)\n",
    "    \n",
    "    # TODO: return output\n",
    "    return conv_layer\n",
    "\n",
    "\n",
    "\"\"\"\n",
    "DON'T MODIFY ANYTHING IN THIS CELL THAT IS BELOW THIS LINE\n",
    "\"\"\"\n",
    "\n",
    "##############################\n",
    "## Build the Neural Network ##\n",
    "##############################\n",
    "\n",
    "# Remove previous weights, bias, inputs, etc..\n",
    "tf.reset_default_graph()\n",
    "\n",
    "# Inputs\n",
    "x = neural_net_image_input((32, 32, 3))\n",
    "y = neural_net_label_input(10)\n",
    "keep_prob = neural_net_keep_prob_input()\n",
    "\n",
    "# Model\n",
    "logits = conv_net(x, keep_prob)\n",
    "\n",
    "# Name logits Tensor, so that is can be loaded from disk after training\n",
    "logits = tf.identity(logits, name='logits')\n",
    "\n",
    "# Loss and Optimizer\n",
    "cost = tf.reduce_mean(tf.nn.softmax_cross_entropy_with_logits(logits=logits, labels=y))\n",
    "optimizer = tf.train.AdamOptimizer().minimize(cost)\n",
    "\n",
    "# Accuracy\n",
    "correct_pred = tf.equal(tf.argmax(logits, 1), tf.argmax(y, 1))\n",
    "accuracy = tf.reduce_mean(tf.cast(correct_pred, tf.float32), name='accuracy')\n",
    "\n",
    "tests.test_conv_net(conv_net)"
   ]
  },
  {
   "cell_type": "markdown",
   "metadata": {
    "deletable": true,
    "editable": true
   },
   "source": [
    "## Train the Neural Network\n",
    "### Single Optimization\n",
    "Implement the function `train_neural_network` to do a single optimization.  The optimization should use `optimizer` to optimize in `session` with a `feed_dict` of the following:\n",
    "* `x` for image input\n",
    "* `y` for labels\n",
    "* `keep_prob` for keep probability for dropout\n",
    "\n",
    "This function will be called for each batch, so `tf.global_variables_initializer()` has already been called.\n",
    "\n",
    "Note: Nothing needs to be returned. This function is only optimizing the neural network."
   ]
  },
  {
   "cell_type": "code",
   "execution_count": 18,
   "metadata": {
    "collapsed": false,
    "deletable": true,
    "editable": true
   },
   "outputs": [
    {
     "name": "stdout",
     "output_type": "stream",
     "text": [
      "Tests Passed\n"
     ]
    }
   ],
   "source": [
    "def train_neural_network(session, optimizer, keep_probability, feature_batch, label_batch):\n",
    "    \"\"\"\n",
    "    Optimize the session on a batch of images and labels\n",
    "    : session: Current TensorFlow session\n",
    "    : optimizer: TensorFlow optimizer function\n",
    "    : keep_probability: keep probability\n",
    "    : feature_batch: Batch of Numpy image data\n",
    "    : label_batch: Batch of Numpy label data\n",
    "    \"\"\"\n",
    "    # TODO: Implement Function\n",
    "    session.run(optimizer, feed_dict={x: feature_batch, y: label_batch, keep_prob: keep_probability})\n",
    "\n",
    "\n",
    "\"\"\"\n",
    "DON'T MODIFY ANYTHING IN THIS CELL THAT IS BELOW THIS LINE\n",
    "\"\"\"\n",
    "tests.test_train_nn(train_neural_network)"
   ]
  },
  {
   "cell_type": "markdown",
   "metadata": {
    "deletable": true,
    "editable": true
   },
   "source": [
    "### Show Stats\n",
    "Implement the function `print_stats` to print loss and validation accuracy.  Use the global variables `valid_features` and `valid_labels` to calculate validation accuracy.  Use a keep probability of `1.0` to calculate the loss and validation accuracy."
   ]
  },
  {
   "cell_type": "code",
   "execution_count": 19,
   "metadata": {
    "collapsed": false,
    "deletable": true,
    "editable": true
   },
   "outputs": [],
   "source": [
    "def print_stats(session, feature_batch, label_batch, cost, accuracy):\n",
    "    \"\"\"\n",
    "    Print information about loss and validation accuracy\n",
    "    : session: Current TensorFlow session\n",
    "    : feature_batch: Batch of Numpy image data\n",
    "    : label_batch: Batch of Numpy label data\n",
    "    : cost: TensorFlow cost function\n",
    "    : accuracy: TensorFlow accuracy function\n",
    "    \"\"\"\n",
    "    # TODO: Implement Function\n",
    "    loss = session.run(cost, feed_dict={x: feature_batch, y: label_batch, keep_prob: 1.0})\n",
    "    valid_acc = session.run(accuracy, feed_dict={x: valid_features, y: valid_labels, keep_prob: 1.0})\n",
    "    print('Loss: {:>10.4f} Accuracy: {:.6f}'.format(loss, valid_acc))"
   ]
  },
  {
   "cell_type": "markdown",
   "metadata": {
    "deletable": true,
    "editable": true
   },
   "source": [
    "### Hyperparameters\n",
    "Tune the following parameters:\n",
    "* Set `epochs` to the number of iterations until the network stops learning or start overfitting\n",
    "* Set `batch_size` to the highest number that your machine has memory for.  Most people set them to common sizes of memory:\n",
    " * 64\n",
    " * 128\n",
    " * 256\n",
    " * ...\n",
    "* Set `keep_probability` to the probability of keeping a node using dropout"
   ]
  },
  {
   "cell_type": "code",
   "execution_count": 20,
   "metadata": {
    "collapsed": true,
    "deletable": true,
    "editable": true
   },
   "outputs": [],
   "source": [
    "# TODO: Tune Parameters\n",
    "epochs = 40\n",
    "batch_size = 256\n",
    "keep_probability = 0.5"
   ]
  },
  {
   "cell_type": "markdown",
   "metadata": {
    "deletable": true,
    "editable": true
   },
   "source": [
    "### Train on a Single CIFAR-10 Batch\n",
    "Instead of training the neural network on all the CIFAR-10 batches of data, let's use a single batch. This should save time while you iterate on the model to get a better accuracy.  Once the final validation accuracy is 50% or greater, run the model on all the data in the next section."
   ]
  },
  {
   "cell_type": "code",
   "execution_count": 21,
   "metadata": {
    "collapsed": false,
    "deletable": true,
    "editable": true
   },
   "outputs": [
    {
     "name": "stdout",
     "output_type": "stream",
     "text": [
      "Checking the Training on a Single Batch...\n",
      "Epoch  1, CIFAR-10 Batch 1:  Loss:     2.2731 Accuracy: 0.192000\n",
      "Epoch  2, CIFAR-10 Batch 1:  Loss:     2.2116 Accuracy: 0.218000\n",
      "Epoch  3, CIFAR-10 Batch 1:  Loss:     2.1120 Accuracy: 0.261000\n",
      "Epoch  4, CIFAR-10 Batch 1:  Loss:     2.0452 Accuracy: 0.296000\n",
      "Epoch  5, CIFAR-10 Batch 1:  Loss:     1.9928 Accuracy: 0.322400\n",
      "Epoch  6, CIFAR-10 Batch 1:  Loss:     1.9429 Accuracy: 0.336600\n",
      "Epoch  7, CIFAR-10 Batch 1:  Loss:     1.8955 Accuracy: 0.351000\n",
      "Epoch  8, CIFAR-10 Batch 1:  Loss:     1.8512 Accuracy: 0.361800\n",
      "Epoch  9, CIFAR-10 Batch 1:  Loss:     1.8090 Accuracy: 0.372600\n",
      "Epoch 10, CIFAR-10 Batch 1:  Loss:     1.7691 Accuracy: 0.384200\n",
      "Epoch 11, CIFAR-10 Batch 1:  Loss:     1.7322 Accuracy: 0.394200\n",
      "Epoch 12, CIFAR-10 Batch 1:  Loss:     1.6971 Accuracy: 0.406000\n",
      "Epoch 13, CIFAR-10 Batch 1:  Loss:     1.6639 Accuracy: 0.415000\n",
      "Epoch 14, CIFAR-10 Batch 1:  Loss:     1.6327 Accuracy: 0.422200\n",
      "Epoch 15, CIFAR-10 Batch 1:  Loss:     1.6029 Accuracy: 0.423800\n",
      "Epoch 16, CIFAR-10 Batch 1:  Loss:     1.5745 Accuracy: 0.425600\n",
      "Epoch 17, CIFAR-10 Batch 1:  Loss:     1.5487 Accuracy: 0.430400\n",
      "Epoch 18, CIFAR-10 Batch 1:  Loss:     1.5241 Accuracy: 0.434000\n",
      "Epoch 19, CIFAR-10 Batch 1:  Loss:     1.5011 Accuracy: 0.435400\n",
      "Epoch 20, CIFAR-10 Batch 1:  Loss:     1.4798 Accuracy: 0.440400\n",
      "Epoch 21, CIFAR-10 Batch 1:  Loss:     1.4588 Accuracy: 0.443400\n",
      "Epoch 22, CIFAR-10 Batch 1:  Loss:     1.4381 Accuracy: 0.450200\n",
      "Epoch 23, CIFAR-10 Batch 1:  Loss:     1.4185 Accuracy: 0.455200\n",
      "Epoch 24, CIFAR-10 Batch 1:  Loss:     1.3995 Accuracy: 0.459000\n",
      "Epoch 25, CIFAR-10 Batch 1:  Loss:     1.3813 Accuracy: 0.460200\n",
      "Epoch 26, CIFAR-10 Batch 1:  Loss:     1.3644 Accuracy: 0.464000\n",
      "Epoch 27, CIFAR-10 Batch 1:  Loss:     1.3478 Accuracy: 0.466600\n",
      "Epoch 28, CIFAR-10 Batch 1:  Loss:     1.3313 Accuracy: 0.466800\n",
      "Epoch 29, CIFAR-10 Batch 1:  Loss:     1.3143 Accuracy: 0.467200\n",
      "Epoch 30, CIFAR-10 Batch 1:  Loss:     1.2984 Accuracy: 0.467600\n",
      "Epoch 31, CIFAR-10 Batch 1:  Loss:     1.2829 Accuracy: 0.469600\n",
      "Epoch 32, CIFAR-10 Batch 1:  Loss:     1.2673 Accuracy: 0.469600\n",
      "Epoch 33, CIFAR-10 Batch 1:  Loss:     1.2512 Accuracy: 0.472600\n",
      "Epoch 34, CIFAR-10 Batch 1:  Loss:     1.2357 Accuracy: 0.474200\n",
      "Epoch 35, CIFAR-10 Batch 1:  Loss:     1.2203 Accuracy: 0.474600\n",
      "Epoch 36, CIFAR-10 Batch 1:  Loss:     1.2058 Accuracy: 0.476000\n",
      "Epoch 37, CIFAR-10 Batch 1:  Loss:     1.1901 Accuracy: 0.478200\n",
      "Epoch 38, CIFAR-10 Batch 1:  Loss:     1.1750 Accuracy: 0.480000\n",
      "Epoch 39, CIFAR-10 Batch 1:  Loss:     1.1597 Accuracy: 0.480200\n",
      "Epoch 40, CIFAR-10 Batch 1:  Loss:     1.1450 Accuracy: 0.482000\n"
     ]
    }
   ],
   "source": [
    "\"\"\"\n",
    "DON'T MODIFY ANYTHING IN THIS CELL\n",
    "\"\"\"\n",
    "print('Checking the Training on a Single Batch...')\n",
    "with tf.Session() as sess:\n",
    "    # Initializing the variables\n",
    "    sess.run(tf.global_variables_initializer())\n",
    "    \n",
    "    # Training cycle\n",
    "    for epoch in range(epochs):\n",
    "        batch_i = 1\n",
    "        for batch_features, batch_labels in helper.load_preprocess_training_batch(batch_i, batch_size):\n",
    "            train_neural_network(sess, optimizer, keep_probability, batch_features, batch_labels)\n",
    "        print('Epoch {:>2}, CIFAR-10 Batch {}:  '.format(epoch + 1, batch_i), end='')\n",
    "        print_stats(sess, batch_features, batch_labels, cost, accuracy)"
   ]
  },
  {
   "cell_type": "markdown",
   "metadata": {
    "deletable": true,
    "editable": true
   },
   "source": [
    "### Fully Train the Model\n",
    "Now that you got a good accuracy with a single CIFAR-10 batch, try it with all five batches."
   ]
  },
  {
   "cell_type": "code",
   "execution_count": 22,
   "metadata": {
    "collapsed": false,
    "deletable": true,
    "editable": true
   },
   "outputs": [
    {
     "name": "stdout",
     "output_type": "stream",
     "text": [
      "Training...\n",
      "Epoch  1, CIFAR-10 Batch 1:  Loss:     2.1478 Accuracy: 0.197400\n",
      "Epoch  1, CIFAR-10 Batch 2:  Loss:     2.1014 Accuracy: 0.311600\n",
      "Epoch  1, CIFAR-10 Batch 3:  Loss:     1.7920 Accuracy: 0.336200\n",
      "Epoch  1, CIFAR-10 Batch 4:  Loss:     1.9130 Accuracy: 0.349400\n",
      "Epoch  1, CIFAR-10 Batch 5:  Loss:     1.8844 Accuracy: 0.345400\n",
      "Epoch  2, CIFAR-10 Batch 1:  Loss:     1.9488 Accuracy: 0.369800\n",
      "Epoch  2, CIFAR-10 Batch 2:  Loss:     1.8416 Accuracy: 0.393000\n",
      "Epoch  2, CIFAR-10 Batch 3:  Loss:     1.5013 Accuracy: 0.403200\n",
      "Epoch  2, CIFAR-10 Batch 4:  Loss:     1.7807 Accuracy: 0.412200\n",
      "Epoch  2, CIFAR-10 Batch 5:  Loss:     1.7311 Accuracy: 0.407800\n",
      "Epoch  3, CIFAR-10 Batch 1:  Loss:     1.8215 Accuracy: 0.421200\n",
      "Epoch  3, CIFAR-10 Batch 2:  Loss:     1.6471 Accuracy: 0.436600\n",
      "Epoch  3, CIFAR-10 Batch 3:  Loss:     1.3780 Accuracy: 0.431600\n",
      "Epoch  3, CIFAR-10 Batch 4:  Loss:     1.6749 Accuracy: 0.435800\n",
      "Epoch  3, CIFAR-10 Batch 5:  Loss:     1.6351 Accuracy: 0.436800\n",
      "Epoch  4, CIFAR-10 Batch 1:  Loss:     1.7247 Accuracy: 0.448600\n",
      "Epoch  4, CIFAR-10 Batch 2:  Loss:     1.4990 Accuracy: 0.462400\n",
      "Epoch  4, CIFAR-10 Batch 3:  Loss:     1.3011 Accuracy: 0.455400\n",
      "Epoch  4, CIFAR-10 Batch 4:  Loss:     1.5738 Accuracy: 0.458600\n",
      "Epoch  4, CIFAR-10 Batch 5:  Loss:     1.5554 Accuracy: 0.460400\n",
      "Epoch  5, CIFAR-10 Batch 1:  Loss:     1.6447 Accuracy: 0.476400\n",
      "Epoch  5, CIFAR-10 Batch 2:  Loss:     1.3625 Accuracy: 0.474000\n",
      "Epoch  5, CIFAR-10 Batch 3:  Loss:     1.2336 Accuracy: 0.476800\n",
      "Epoch  5, CIFAR-10 Batch 4:  Loss:     1.4746 Accuracy: 0.479200\n",
      "Epoch  5, CIFAR-10 Batch 5:  Loss:     1.4714 Accuracy: 0.480400\n",
      "Epoch  6, CIFAR-10 Batch 1:  Loss:     1.5717 Accuracy: 0.491600\n",
      "Epoch  6, CIFAR-10 Batch 2:  Loss:     1.2624 Accuracy: 0.496600\n",
      "Epoch  6, CIFAR-10 Batch 3:  Loss:     1.1674 Accuracy: 0.496200\n",
      "Epoch  6, CIFAR-10 Batch 4:  Loss:     1.4009 Accuracy: 0.497600\n",
      "Epoch  6, CIFAR-10 Batch 5:  Loss:     1.3916 Accuracy: 0.497000\n",
      "Epoch  7, CIFAR-10 Batch 1:  Loss:     1.5039 Accuracy: 0.505600\n",
      "Epoch  7, CIFAR-10 Batch 2:  Loss:     1.1683 Accuracy: 0.509200\n",
      "Epoch  7, CIFAR-10 Batch 3:  Loss:     1.1173 Accuracy: 0.512200\n",
      "Epoch  7, CIFAR-10 Batch 4:  Loss:     1.3444 Accuracy: 0.511200\n",
      "Epoch  7, CIFAR-10 Batch 5:  Loss:     1.3281 Accuracy: 0.510400\n",
      "Epoch  8, CIFAR-10 Batch 1:  Loss:     1.4530 Accuracy: 0.518800\n",
      "Epoch  8, CIFAR-10 Batch 2:  Loss:     1.1003 Accuracy: 0.520800\n",
      "Epoch  8, CIFAR-10 Batch 3:  Loss:     1.0725 Accuracy: 0.521600\n",
      "Epoch  8, CIFAR-10 Batch 4:  Loss:     1.2992 Accuracy: 0.514400\n",
      "Epoch  8, CIFAR-10 Batch 5:  Loss:     1.2771 Accuracy: 0.519200\n",
      "Epoch  9, CIFAR-10 Batch 1:  Loss:     1.4169 Accuracy: 0.524800\n",
      "Epoch  9, CIFAR-10 Batch 2:  Loss:     1.0507 Accuracy: 0.527000\n",
      "Epoch  9, CIFAR-10 Batch 3:  Loss:     1.0296 Accuracy: 0.527800\n",
      "Epoch  9, CIFAR-10 Batch 4:  Loss:     1.2643 Accuracy: 0.522800\n",
      "Epoch  9, CIFAR-10 Batch 5:  Loss:     1.2328 Accuracy: 0.528600\n",
      "Epoch 10, CIFAR-10 Batch 1:  Loss:     1.3901 Accuracy: 0.531800\n",
      "Epoch 10, CIFAR-10 Batch 2:  Loss:     1.0126 Accuracy: 0.529800\n",
      "Epoch 10, CIFAR-10 Batch 3:  Loss:     0.9924 Accuracy: 0.530200\n",
      "Epoch 10, CIFAR-10 Batch 4:  Loss:     1.2341 Accuracy: 0.527800\n",
      "Epoch 10, CIFAR-10 Batch 5:  Loss:     1.1946 Accuracy: 0.536600\n",
      "Epoch 11, CIFAR-10 Batch 1:  Loss:     1.3664 Accuracy: 0.535200\n",
      "Epoch 11, CIFAR-10 Batch 2:  Loss:     0.9825 Accuracy: 0.534600\n",
      "Epoch 11, CIFAR-10 Batch 3:  Loss:     0.9605 Accuracy: 0.534800\n",
      "Epoch 11, CIFAR-10 Batch 4:  Loss:     1.2084 Accuracy: 0.532800\n",
      "Epoch 11, CIFAR-10 Batch 5:  Loss:     1.1607 Accuracy: 0.539200\n",
      "Epoch 12, CIFAR-10 Batch 1:  Loss:     1.3457 Accuracy: 0.538400\n",
      "Epoch 12, CIFAR-10 Batch 2:  Loss:     0.9571 Accuracy: 0.538600\n",
      "Epoch 12, CIFAR-10 Batch 3:  Loss:     0.9322 Accuracy: 0.539600\n",
      "Epoch 12, CIFAR-10 Batch 4:  Loss:     1.1862 Accuracy: 0.540400\n",
      "Epoch 12, CIFAR-10 Batch 5:  Loss:     1.1316 Accuracy: 0.542200\n",
      "Epoch 13, CIFAR-10 Batch 1:  Loss:     1.3285 Accuracy: 0.542400\n",
      "Epoch 13, CIFAR-10 Batch 2:  Loss:     0.9354 Accuracy: 0.543000\n",
      "Epoch 13, CIFAR-10 Batch 3:  Loss:     0.9062 Accuracy: 0.544400\n",
      "Epoch 13, CIFAR-10 Batch 4:  Loss:     1.1660 Accuracy: 0.543000\n",
      "Epoch 13, CIFAR-10 Batch 5:  Loss:     1.1045 Accuracy: 0.541800\n",
      "Epoch 14, CIFAR-10 Batch 1:  Loss:     1.3122 Accuracy: 0.543600\n",
      "Epoch 14, CIFAR-10 Batch 2:  Loss:     0.9153 Accuracy: 0.544800\n",
      "Epoch 14, CIFAR-10 Batch 3:  Loss:     0.8834 Accuracy: 0.546400\n",
      "Epoch 14, CIFAR-10 Batch 4:  Loss:     1.1469 Accuracy: 0.543200\n",
      "Epoch 14, CIFAR-10 Batch 5:  Loss:     1.0813 Accuracy: 0.545200\n",
      "Epoch 15, CIFAR-10 Batch 1:  Loss:     1.2985 Accuracy: 0.545600\n",
      "Epoch 15, CIFAR-10 Batch 2:  Loss:     0.8985 Accuracy: 0.545200\n",
      "Epoch 15, CIFAR-10 Batch 3:  Loss:     0.8633 Accuracy: 0.546400\n",
      "Epoch 15, CIFAR-10 Batch 4:  Loss:     1.1302 Accuracy: 0.546400\n",
      "Epoch 15, CIFAR-10 Batch 5:  Loss:     1.0606 Accuracy: 0.546600\n",
      "Epoch 16, CIFAR-10 Batch 1:  Loss:     1.2861 Accuracy: 0.547000\n",
      "Epoch 16, CIFAR-10 Batch 2:  Loss:     0.8828 Accuracy: 0.544200\n",
      "Epoch 16, CIFAR-10 Batch 3:  Loss:     0.8454 Accuracy: 0.546400\n",
      "Epoch 16, CIFAR-10 Batch 4:  Loss:     1.1141 Accuracy: 0.549000\n",
      "Epoch 16, CIFAR-10 Batch 5:  Loss:     1.0425 Accuracy: 0.547600\n",
      "Epoch 17, CIFAR-10 Batch 1:  Loss:     1.2757 Accuracy: 0.547400\n",
      "Epoch 17, CIFAR-10 Batch 2:  Loss:     0.8694 Accuracy: 0.546800\n",
      "Epoch 17, CIFAR-10 Batch 3:  Loss:     0.8294 Accuracy: 0.549200\n",
      "Epoch 17, CIFAR-10 Batch 4:  Loss:     1.0992 Accuracy: 0.552400\n",
      "Epoch 17, CIFAR-10 Batch 5:  Loss:     1.0255 Accuracy: 0.548200\n",
      "Epoch 18, CIFAR-10 Batch 1:  Loss:     1.2654 Accuracy: 0.548400\n",
      "Epoch 18, CIFAR-10 Batch 2:  Loss:     0.8582 Accuracy: 0.546400\n",
      "Epoch 18, CIFAR-10 Batch 3:  Loss:     0.8151 Accuracy: 0.550600\n",
      "Epoch 18, CIFAR-10 Batch 4:  Loss:     1.0858 Accuracy: 0.554600\n",
      "Epoch 18, CIFAR-10 Batch 5:  Loss:     1.0108 Accuracy: 0.550800\n",
      "Epoch 19, CIFAR-10 Batch 1:  Loss:     1.2563 Accuracy: 0.548800\n",
      "Epoch 19, CIFAR-10 Batch 2:  Loss:     0.8479 Accuracy: 0.548200\n",
      "Epoch 19, CIFAR-10 Batch 3:  Loss:     0.8019 Accuracy: 0.552800\n",
      "Epoch 19, CIFAR-10 Batch 4:  Loss:     1.0733 Accuracy: 0.555800\n",
      "Epoch 19, CIFAR-10 Batch 5:  Loss:     0.9973 Accuracy: 0.551000\n",
      "Epoch 20, CIFAR-10 Batch 1:  Loss:     1.2463 Accuracy: 0.548000\n",
      "Epoch 20, CIFAR-10 Batch 2:  Loss:     0.8388 Accuracy: 0.550400\n",
      "Epoch 20, CIFAR-10 Batch 3:  Loss:     0.7894 Accuracy: 0.555200\n",
      "Epoch 20, CIFAR-10 Batch 4:  Loss:     1.0622 Accuracy: 0.558000\n",
      "Epoch 20, CIFAR-10 Batch 5:  Loss:     0.9857 Accuracy: 0.553000\n",
      "Epoch 21, CIFAR-10 Batch 1:  Loss:     1.2373 Accuracy: 0.548200\n",
      "Epoch 21, CIFAR-10 Batch 2:  Loss:     0.8310 Accuracy: 0.549200\n",
      "Epoch 21, CIFAR-10 Batch 3:  Loss:     0.7783 Accuracy: 0.555200\n",
      "Epoch 21, CIFAR-10 Batch 4:  Loss:     1.0513 Accuracy: 0.559000\n",
      "Epoch 21, CIFAR-10 Batch 5:  Loss:     0.9744 Accuracy: 0.551800\n",
      "Epoch 22, CIFAR-10 Batch 1:  Loss:     1.2280 Accuracy: 0.550400\n",
      "Epoch 22, CIFAR-10 Batch 2:  Loss:     0.8241 Accuracy: 0.548800\n",
      "Epoch 22, CIFAR-10 Batch 3:  Loss:     0.7687 Accuracy: 0.558200\n",
      "Epoch 22, CIFAR-10 Batch 4:  Loss:     1.0411 Accuracy: 0.559200\n",
      "Epoch 22, CIFAR-10 Batch 5:  Loss:     0.9645 Accuracy: 0.552000\n",
      "Epoch 23, CIFAR-10 Batch 1:  Loss:     1.2199 Accuracy: 0.550400\n",
      "Epoch 23, CIFAR-10 Batch 2:  Loss:     0.8173 Accuracy: 0.549600\n",
      "Epoch 23, CIFAR-10 Batch 3:  Loss:     0.7594 Accuracy: 0.557800\n",
      "Epoch 23, CIFAR-10 Batch 4:  Loss:     1.0318 Accuracy: 0.560200\n",
      "Epoch 23, CIFAR-10 Batch 5:  Loss:     0.9553 Accuracy: 0.554200\n",
      "Epoch 24, CIFAR-10 Batch 1:  Loss:     1.2127 Accuracy: 0.551800\n",
      "Epoch 24, CIFAR-10 Batch 2:  Loss:     0.8117 Accuracy: 0.550600\n",
      "Epoch 24, CIFAR-10 Batch 3:  Loss:     0.7509 Accuracy: 0.557200\n",
      "Epoch 24, CIFAR-10 Batch 4:  Loss:     1.0235 Accuracy: 0.561000\n",
      "Epoch 24, CIFAR-10 Batch 5:  Loss:     0.9473 Accuracy: 0.555800\n",
      "Epoch 25, CIFAR-10 Batch 1:  Loss:     1.2063 Accuracy: 0.552000\n",
      "Epoch 25, CIFAR-10 Batch 2:  Loss:     0.8063 Accuracy: 0.553400\n",
      "Epoch 25, CIFAR-10 Batch 3:  Loss:     0.7430 Accuracy: 0.559600\n",
      "Epoch 25, CIFAR-10 Batch 4:  Loss:     1.0154 Accuracy: 0.560800\n",
      "Epoch 25, CIFAR-10 Batch 5:  Loss:     0.9397 Accuracy: 0.556400\n",
      "Epoch 26, CIFAR-10 Batch 1:  Loss:     1.1994 Accuracy: 0.552000\n",
      "Epoch 26, CIFAR-10 Batch 2:  Loss:     0.8015 Accuracy: 0.553600\n",
      "Epoch 26, CIFAR-10 Batch 3:  Loss:     0.7352 Accuracy: 0.561000\n",
      "Epoch 26, CIFAR-10 Batch 4:  Loss:     1.0074 Accuracy: 0.561000\n",
      "Epoch 26, CIFAR-10 Batch 5:  Loss:     0.9322 Accuracy: 0.555600\n",
      "Epoch 27, CIFAR-10 Batch 1:  Loss:     1.1926 Accuracy: 0.554400\n",
      "Epoch 27, CIFAR-10 Batch 2:  Loss:     0.7977 Accuracy: 0.555800\n",
      "Epoch 27, CIFAR-10 Batch 3:  Loss:     0.7282 Accuracy: 0.560600\n",
      "Epoch 27, CIFAR-10 Batch 4:  Loss:     0.9995 Accuracy: 0.561000\n",
      "Epoch 27, CIFAR-10 Batch 5:  Loss:     0.9247 Accuracy: 0.555800\n",
      "Epoch 28, CIFAR-10 Batch 1:  Loss:     1.1872 Accuracy: 0.554600\n",
      "Epoch 28, CIFAR-10 Batch 2:  Loss:     0.7941 Accuracy: 0.557600\n",
      "Epoch 28, CIFAR-10 Batch 3:  Loss:     0.7216 Accuracy: 0.560600\n",
      "Epoch 28, CIFAR-10 Batch 4:  Loss:     0.9919 Accuracy: 0.562200\n",
      "Epoch 28, CIFAR-10 Batch 5:  Loss:     0.9182 Accuracy: 0.555400\n",
      "Epoch 29, CIFAR-10 Batch 1:  Loss:     1.1822 Accuracy: 0.555400\n",
      "Epoch 29, CIFAR-10 Batch 2:  Loss:     0.7898 Accuracy: 0.557800\n",
      "Epoch 29, CIFAR-10 Batch 3:  Loss:     0.7156 Accuracy: 0.561800\n",
      "Epoch 29, CIFAR-10 Batch 4:  Loss:     0.9848 Accuracy: 0.562800\n",
      "Epoch 29, CIFAR-10 Batch 5:  Loss:     0.9116 Accuracy: 0.556800\n",
      "Epoch 30, CIFAR-10 Batch 1:  Loss:     1.1782 Accuracy: 0.556000\n",
      "Epoch 30, CIFAR-10 Batch 2:  Loss:     0.7858 Accuracy: 0.558600\n",
      "Epoch 30, CIFAR-10 Batch 3:  Loss:     0.7099 Accuracy: 0.562000\n",
      "Epoch 30, CIFAR-10 Batch 4:  Loss:     0.9779 Accuracy: 0.560600\n",
      "Epoch 30, CIFAR-10 Batch 5:  Loss:     0.9060 Accuracy: 0.556400\n",
      "Epoch 31, CIFAR-10 Batch 1:  Loss:     1.1728 Accuracy: 0.557200\n",
      "Epoch 31, CIFAR-10 Batch 2:  Loss:     0.7821 Accuracy: 0.559800\n",
      "Epoch 31, CIFAR-10 Batch 3:  Loss:     0.7047 Accuracy: 0.561600\n",
      "Epoch 31, CIFAR-10 Batch 4:  Loss:     0.9714 Accuracy: 0.560800\n",
      "Epoch 31, CIFAR-10 Batch 5:  Loss:     0.9012 Accuracy: 0.556000\n",
      "Epoch 32, CIFAR-10 Batch 1:  Loss:     1.1671 Accuracy: 0.558600\n",
      "Epoch 32, CIFAR-10 Batch 2:  Loss:     0.7799 Accuracy: 0.559200\n",
      "Epoch 32, CIFAR-10 Batch 3:  Loss:     0.7003 Accuracy: 0.561000\n",
      "Epoch 32, CIFAR-10 Batch 4:  Loss:     0.9646 Accuracy: 0.561200\n",
      "Epoch 32, CIFAR-10 Batch 5:  Loss:     0.8974 Accuracy: 0.556400\n",
      "Epoch 33, CIFAR-10 Batch 1:  Loss:     1.1623 Accuracy: 0.558800\n",
      "Epoch 33, CIFAR-10 Batch 2:  Loss:     0.7766 Accuracy: 0.560800\n",
      "Epoch 33, CIFAR-10 Batch 3:  Loss:     0.6952 Accuracy: 0.560800\n",
      "Epoch 33, CIFAR-10 Batch 4:  Loss:     0.9587 Accuracy: 0.561000\n",
      "Epoch 33, CIFAR-10 Batch 5:  Loss:     0.8933 Accuracy: 0.556000\n",
      "Epoch 34, CIFAR-10 Batch 1:  Loss:     1.1572 Accuracy: 0.559600\n",
      "Epoch 34, CIFAR-10 Batch 2:  Loss:     0.7741 Accuracy: 0.561800\n",
      "Epoch 34, CIFAR-10 Batch 3:  Loss:     0.6911 Accuracy: 0.561200\n",
      "Epoch 34, CIFAR-10 Batch 4:  Loss:     0.9529 Accuracy: 0.561600\n",
      "Epoch 34, CIFAR-10 Batch 5:  Loss:     0.8892 Accuracy: 0.556200\n",
      "Epoch 35, CIFAR-10 Batch 1:  Loss:     1.1528 Accuracy: 0.559800\n",
      "Epoch 35, CIFAR-10 Batch 2:  Loss:     0.7711 Accuracy: 0.562600\n",
      "Epoch 35, CIFAR-10 Batch 3:  Loss:     0.6869 Accuracy: 0.562200\n",
      "Epoch 35, CIFAR-10 Batch 4:  Loss:     0.9478 Accuracy: 0.561000\n",
      "Epoch 35, CIFAR-10 Batch 5:  Loss:     0.8855 Accuracy: 0.556400\n",
      "Epoch 36, CIFAR-10 Batch 1:  Loss:     1.1458 Accuracy: 0.560600\n",
      "Epoch 36, CIFAR-10 Batch 2:  Loss:     0.7684 Accuracy: 0.562200\n",
      "Epoch 36, CIFAR-10 Batch 3:  Loss:     0.6826 Accuracy: 0.561800\n",
      "Epoch 36, CIFAR-10 Batch 4:  Loss:     0.9424 Accuracy: 0.563800\n",
      "Epoch 36, CIFAR-10 Batch 5:  Loss:     0.8818 Accuracy: 0.556800\n",
      "Epoch 37, CIFAR-10 Batch 1:  Loss:     1.1417 Accuracy: 0.562800\n",
      "Epoch 37, CIFAR-10 Batch 2:  Loss:     0.7663 Accuracy: 0.561000\n",
      "Epoch 37, CIFAR-10 Batch 3:  Loss:     0.6789 Accuracy: 0.560800\n",
      "Epoch 37, CIFAR-10 Batch 4:  Loss:     0.9376 Accuracy: 0.565400\n",
      "Epoch 37, CIFAR-10 Batch 5:  Loss:     0.8774 Accuracy: 0.556000\n",
      "Epoch 38, CIFAR-10 Batch 1:  Loss:     1.1370 Accuracy: 0.561600\n",
      "Epoch 38, CIFAR-10 Batch 2:  Loss:     0.7642 Accuracy: 0.561800\n",
      "Epoch 38, CIFAR-10 Batch 3:  Loss:     0.6757 Accuracy: 0.561400\n",
      "Epoch 38, CIFAR-10 Batch 4:  Loss:     0.9322 Accuracy: 0.566800\n",
      "Epoch 38, CIFAR-10 Batch 5:  Loss:     0.8736 Accuracy: 0.556000\n",
      "Epoch 39, CIFAR-10 Batch 1:  Loss:     1.1322 Accuracy: 0.563000\n",
      "Epoch 39, CIFAR-10 Batch 2:  Loss:     0.7618 Accuracy: 0.563400\n",
      "Epoch 39, CIFAR-10 Batch 3:  Loss:     0.6724 Accuracy: 0.560400\n",
      "Epoch 39, CIFAR-10 Batch 4:  Loss:     0.9276 Accuracy: 0.566200\n",
      "Epoch 39, CIFAR-10 Batch 5:  Loss:     0.8683 Accuracy: 0.556800\n",
      "Epoch 40, CIFAR-10 Batch 1:  Loss:     1.1293 Accuracy: 0.563200\n",
      "Epoch 40, CIFAR-10 Batch 2:  Loss:     0.7597 Accuracy: 0.562800\n",
      "Epoch 40, CIFAR-10 Batch 3:  Loss:     0.6693 Accuracy: 0.563200\n",
      "Epoch 40, CIFAR-10 Batch 4:  Loss:     0.9230 Accuracy: 0.566000\n",
      "Epoch 40, CIFAR-10 Batch 5:  Loss:     0.8652 Accuracy: 0.557800\n"
     ]
    }
   ],
   "source": [
    "\"\"\"\n",
    "DON'T MODIFY ANYTHING IN THIS CELL\n",
    "\"\"\"\n",
    "save_model_path = './image_classification'\n",
    "\n",
    "print('Training...')\n",
    "with tf.Session() as sess:\n",
    "    # Initializing the variables\n",
    "    sess.run(tf.global_variables_initializer())\n",
    "    \n",
    "    # Training cycle\n",
    "    for epoch in range(epochs):\n",
    "        # Loop over all batches\n",
    "        n_batches = 5\n",
    "        for batch_i in range(1, n_batches + 1):\n",
    "            for batch_features, batch_labels in helper.load_preprocess_training_batch(batch_i, batch_size):\n",
    "                train_neural_network(sess, optimizer, keep_probability, batch_features, batch_labels)\n",
    "            print('Epoch {:>2}, CIFAR-10 Batch {}:  '.format(epoch + 1, batch_i), end='')\n",
    "            print_stats(sess, batch_features, batch_labels, cost, accuracy)\n",
    "            \n",
    "    # Save Model\n",
    "    saver = tf.train.Saver()\n",
    "    save_path = saver.save(sess, save_model_path)"
   ]
  },
  {
   "cell_type": "markdown",
   "metadata": {
    "deletable": true,
    "editable": true
   },
   "source": [
    "# Checkpoint\n",
    "The model has been saved to disk.\n",
    "## Test Model\n",
    "Test your model against the test dataset.  This will be your final accuracy. You should have an accuracy greater than 50%. If you don't, keep tweaking the model architecture and parameters."
   ]
  },
  {
   "cell_type": "code",
   "execution_count": 23,
   "metadata": {
    "collapsed": false,
    "deletable": true,
    "editable": true
   },
   "outputs": [
    {
     "name": "stdout",
     "output_type": "stream",
     "text": [
      "Testing Accuracy: 0.5650390625\n",
      "\n"
     ]
    },
    {
     "data": {
      "image/png": "[encoded data removed]",
      "text/plain": [
       "<matplotlib.figure.Figure at 0x7fd1283349e8>"
      ]
     },
     "metadata": {
      "image/png": {
       "height": 319,
       "width": 355
      }
     },
     "output_type": "display_data"
    }
   ],
   "source": [
    "\"\"\"\n",
    "DON'T MODIFY ANYTHING IN THIS CELL\n",
    "\"\"\"\n",
    "%matplotlib inline\n",
    "%config InlineBackend.figure_format = 'retina'\n",
    "\n",
    "import tensorflow as tf\n",
    "import pickle\n",
    "import helper\n",
    "import random\n",
    "\n",
    "# Set batch size if not already set\n",
    "try:\n",
    "    if batch_size:\n",
    "        pass\n",
    "except NameError:\n",
    "    batch_size = 64\n",
    "\n",
    "save_model_path = './image_classification'\n",
    "n_samples = 4\n",
    "top_n_predictions = 3\n",
    "\n",
    "def test_model():\n",
    "    \"\"\"\n",
    "    Test the saved model against the test dataset\n",
    "    \"\"\"\n",
    "\n",
    "    test_features, test_labels = pickle.load(open('preprocess_training.p', mode='rb'))\n",
    "    loaded_graph = tf.Graph()\n",
    "\n",
    "    with tf.Session(graph=loaded_graph) as sess:\n",
    "        # Load model\n",
    "        loader = tf.train.import_meta_graph(save_model_path + '.meta')\n",
    "        loader.restore(sess, save_model_path)\n",
    "\n",
    "        # Get Tensors from loaded model\n",
    "        loaded_x = loaded_graph.get_tensor_by_name('x:0')\n",
    "        loaded_y = loaded_graph.get_tensor_by_name('y:0')\n",
    "        loaded_keep_prob = loaded_graph.get_tensor_by_name('keep_prob:0')\n",
    "        loaded_logits = loaded_graph.get_tensor_by_name('logits:0')\n",
    "        loaded_acc = loaded_graph.get_tensor_by_name('accuracy:0')\n",
    "        \n",
    "        # Get accuracy in batches for memory limitations\n",
    "        test_batch_acc_total = 0\n",
    "        test_batch_count = 0\n",
    "        \n",
    "        for train_feature_batch, train_label_batch in helper.batch_features_labels(test_features, test_labels, batch_size):\n",
    "            test_batch_acc_total += sess.run(\n",
    "                loaded_acc,\n",
    "                feed_dict={loaded_x: train_feature_batch, loaded_y: train_label_batch, loaded_keep_prob: 1.0})\n",
    "            test_batch_count += 1\n",
    "\n",
    "        print('Testing Accuracy: {}\\n'.format(test_batch_acc_total/test_batch_count))\n",
    "\n",
    "        # Print Random Samples\n",
    "        random_test_features, random_test_labels = tuple(zip(*random.sample(list(zip(test_features, test_labels)), n_samples)))\n",
    "        random_test_predictions = sess.run(\n",
    "            tf.nn.top_k(tf.nn.softmax(loaded_logits), top_n_predictions),\n",
    "            feed_dict={loaded_x: random_test_features, loaded_y: random_test_labels, loaded_keep_prob: 1.0})\n",
    "        helper.display_image_predictions(random_test_features, random_test_labels, random_test_predictions)\n",
    "\n",
    "\n",
    "test_model()"
   ]
  },
  {
   "cell_type": "markdown",
   "metadata": {
    "deletable": true,
    "editable": true
   },
   "source": [
    "## Why 50-70% Accuracy?\n",
    "You might be wondering why you can't get an accuracy any higher. First things first, 50% isn't bad for a simple CNN.  Pure guessing would get you 10% accuracy. However, you might notice people are getting scores [well above 70%](http://rodrigob.github.io/are_we_there_yet/build/classification_datasets_results.html#43494641522d3130).  That's because we haven't taught you all there is to know about neural networks. We still need to cover a few more techniques.\n",
    "## Submitting This Project\n",
    "When submitting this project, make sure to run all the cells before saving the notebook.  Save the notebook file as \"dlnd_image_classification.ipynb\" and save it as a HTML file under \"File\" -> \"Download as\".  Include the \"helper.py\" and \"problem_unittests.py\" files in your submission."
   ]
  }
 ],
 "metadata": {
  "anaconda-cloud": {},
  "kernelspec": {
   "display_name": "Python 3",
   "language": "python",
   "name": "python3"
  },
  "language_info": {
   "codemirror_mode": {
    "name": "ipython",
    "version": 3
   },
   "file_extension": ".py",
   "mimetype": "text/x-python",
   "name": "python",
   "nbconvert_exporter": "python",
   "pygments_lexer": "ipython3",
   "version": "3.5.2"
  },
  "widgets": {
   "state": {},
   "version": "1.1.2"
  }
 },
 "nbformat": 4,
 "nbformat_minor": 0
}
